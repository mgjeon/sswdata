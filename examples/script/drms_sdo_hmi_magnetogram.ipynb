{
 "cells": [
  {
   "cell_type": "code",
   "execution_count": null,
   "metadata": {},
   "outputs": [],
   "source": [
    "import drms\n",
    "\n",
    "c = drms.Client()"
   ]
  },
  {
   "cell_type": "code",
   "execution_count": null,
   "metadata": {},
   "outputs": [
    {
     "data": {
      "text/plain": [
       "<SeriesInfo: hmi.m_720s>"
      ]
     },
     "execution_count": null,
     "metadata": {},
     "output_type": "execute_result"
    }
   ],
   "source": [
    "c.info('hmi.m_720s')"
   ]
  },
  {
   "cell_type": "code",
   "execution_count": null,
   "metadata": {},
   "outputs": [],
   "source": [
    "keys = c.query('hmi.M_720s[2025.03.01_10:24:00_TAI]', key=drms.const.all)"
   ]
  },
  {
   "cell_type": "code",
   "execution_count": null,
   "metadata": {},
   "outputs": [
    {
     "data": {
      "text/plain": [
       "Index(['DATE', 'DATE__OBS', 'DATE-OBS', 'TELESCOP', 'INSTRUME', 'WAVELNTH',\n",
       "       'CAMERA', 'BUNIT', 'ORIGIN', 'CONTENT', 'QUALITY', 'QUALLEV1',\n",
       "       'HISTORY', 'COMMENT', 'BLD_VERS', 'HCAMID', 'SOURCE', 'TOTVALS',\n",
       "       'DATAVALS', 'MISSVALS', 'SATVALS', 'DATAMIN2', 'DATAMAX2', 'DATAMED2',\n",
       "       'DATAMEA2', 'DATARMS2', 'DATASKE2', 'DATAKUR2', 'DATAMIN', 'DATAMAX',\n",
       "       'DATAMEDN', 'DATAMEAN', 'DATARMS', 'DATASKEW', 'DATAKURT', 'CTYPE1',\n",
       "       'CTYPE2', 'CRPIX1', 'CRPIX2', 'CRVAL1', 'CRVAL2', 'CDELT1', 'CDELT2',\n",
       "       'CUNIT1', 'CUNIT2', 'CROTA2', 'CRDER1', 'CRDER2', 'CSYSER1', 'CSYSER2',\n",
       "       'WCSNAME', 'DSUN_OBS', 'DSUN_REF', 'RSUN_REF', 'CRLN_OBS', 'CRLT_OBS',\n",
       "       'CAR_ROT', 'OBS_VR', 'OBS_VW', 'OBS_VN', 'RSUN_OBS', 'T_OBS', 'T_REC',\n",
       "       'T_REC_epoch', 'T_REC_step', 'T_REC_unit', 'CADENCE', 'DATASIGN',\n",
       "       'HFLID', 'HCFTID', 'QLOOK', 'CAL_FSN', 'LUTQUERY', 'TSEL', 'TFRONT',\n",
       "       'TINTNUM', 'SINTNUM', 'DISTCOEF', 'ROTCOEF', 'ODICOEFF', 'OROCOEFF',\n",
       "       'POLCALM', 'CODEVER0', 'CODEVER1', 'CODEVER2', 'CODEVER3', 'CALVER64'],\n",
       "      dtype='object')"
      ]
     },
     "execution_count": null,
     "metadata": {},
     "output_type": "execute_result"
    }
   ],
   "source": [
    "keys.columns"
   ]
  },
  {
   "cell_type": "code",
   "execution_count": null,
   "metadata": {},
   "outputs": [],
   "source": []
  }
 ],
 "metadata": {
  "kernelspec": {
   "display_name": "python3",
   "language": "python",
   "name": "python3"
  }
 },
 "nbformat": 4,
 "nbformat_minor": 2
}
