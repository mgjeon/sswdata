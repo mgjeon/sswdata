{
 "cells": [
  {
   "cell_type": "markdown",
   "metadata": {},
   "source": [
    "# SDO/AIA EUV"
   ]
  },
  {
   "cell_type": "code",
   "execution_count": null,
   "metadata": {},
   "outputs": [],
   "source": [
    "ds_path = \"./data/sdo/aia\"\n",
    "email = \"mgjeon@khu.ac.kr\"\n",
    "\n",
    "start_date = \"2024-01-01\"\n",
    "end_date = \"2024-01-02\""
   ]
  },
  {
   "cell_type": "markdown",
   "metadata": {},
   "source": [
    "## explore"
   ]
  },
  {
   "cell_type": "code",
   "execution_count": null,
   "metadata": {},
   "outputs": [
    {
     "data": {
      "text/plain": [
       "[None, None, None, None, None, None, None]"
      ]
     },
     "execution_count": null,
     "metadata": {},
     "output_type": "execute_result"
    }
   ],
   "source": [
    "from pathlib import Path\n",
    "\n",
    "wavelengths=['94', '131', '171', '193', '211', '304', '335']\n",
    "\n",
    "[(Path(ds_path) / wl).mkdir(parents=True, exist_ok=True) for wl in wavelengths]"
   ]
  },
  {
   "cell_type": "code",
   "execution_count": null,
   "metadata": {},
   "outputs": [],
   "source": [
    "import drms\n",
    "\n",
    "drms_client = drms.Client(email=email)"
   ]
  },
  {
   "cell_type": "code",
   "execution_count": null,
   "metadata": {},
   "outputs": [
    {
     "data": {
      "text/html": [
       "<div>\n",
       "<style scoped>\n",
       "    .dataframe tbody tr th:only-of-type {\n",
       "        vertical-align: middle;\n",
       "    }\n",
       "\n",
       "    .dataframe tbody tr th {\n",
       "        vertical-align: top;\n",
       "    }\n",
       "\n",
       "    .dataframe thead th {\n",
       "        text-align: right;\n",
       "    }\n",
       "</style>\n",
       "<table border=\"1\" class=\"dataframe\">\n",
       "  <thead>\n",
       "    <tr style=\"text-align: right;\">\n",
       "      <th></th>\n",
       "      <th>type</th>\n",
       "      <th>units</th>\n",
       "      <th>protocol</th>\n",
       "      <th>dims</th>\n",
       "      <th>note</th>\n",
       "    </tr>\n",
       "    <tr>\n",
       "      <th>name</th>\n",
       "      <th></th>\n",
       "      <th></th>\n",
       "      <th></th>\n",
       "      <th></th>\n",
       "      <th></th>\n",
       "    </tr>\n",
       "  </thead>\n",
       "  <tbody>\n",
       "    <tr>\n",
       "      <th>image</th>\n",
       "      <td>int</td>\n",
       "      <td>None</td>\n",
       "      <td>link via lev1</td>\n",
       "      <td>None</td>\n",
       "      <td>AIA level 1 image</td>\n",
       "    </tr>\n",
       "    <tr>\n",
       "      <th>spikes</th>\n",
       "      <td>int</td>\n",
       "      <td>None</td>\n",
       "      <td>link via lev1</td>\n",
       "      <td>None</td>\n",
       "      <td>Cosmic ray information</td>\n",
       "    </tr>\n",
       "  </tbody>\n",
       "</table>\n",
       "</div>"
      ],
      "text/plain": [
       "       type units       protocol  dims                    note\n",
       "name                                                          \n",
       "image   int  None  link via lev1  None       AIA level 1 image\n",
       "spikes  int  None  link via lev1  None  Cosmic ray information"
      ]
     },
     "execution_count": null,
     "metadata": {},
     "output_type": "execute_result"
    }
   ],
   "source": [
    "drms_client.info('aia.lev1_euv_12s').segments"
   ]
  },
  {
   "cell_type": "code",
   "execution_count": null,
   "metadata": {},
   "outputs": [],
   "source": [
    "from datetime import datetime\n",
    "\n",
    "date = datetime.strptime(start_date, \"%Y-%m-%d\")"
   ]
  },
  {
   "cell_type": "code",
   "execution_count": null,
   "metadata": {},
   "outputs": [
    {
     "data": {
      "text/plain": [
       "'aia.lev1_euv_12s[2024-01-01_00:00:00Z][94,131,171,193,211,304,335]{image}'"
      ]
     },
     "execution_count": null,
     "metadata": {},
     "output_type": "execute_result"
    }
   ],
   "source": [
    "time_param = '%sZ' % date.isoformat('_', timespec='seconds')\n",
    "ds_euv = 'aia.lev1_euv_12s[%s][%s]{image}' % (time_param, ','.join(wavelengths))\n",
    "ds_euv"
   ]
  },
  {
   "cell_type": "code",
   "execution_count": null,
   "metadata": {},
   "outputs": [],
   "source": [
    "keys_euv = drms_client.keys(ds_euv)\n",
    "header_euv, segment_euv = drms_client.query(ds_euv, key=','.join(keys_euv), seg='image')"
   ]
  },
  {
   "cell_type": "code",
   "execution_count": null,
   "metadata": {},
   "outputs": [
    {
     "data": {
      "text/plain": [
       "7"
      ]
     },
     "execution_count": null,
     "metadata": {},
     "output_type": "execute_result"
    }
   ],
   "source": [
    "len(header_euv)"
   ]
  },
  {
   "cell_type": "code",
   "execution_count": null,
   "metadata": {},
   "outputs": [
    {
     "data": {
      "text/html": [
       "<div>\n",
       "<style scoped>\n",
       "    .dataframe tbody tr th:only-of-type {\n",
       "        vertical-align: middle;\n",
       "    }\n",
       "\n",
       "    .dataframe tbody tr th {\n",
       "        vertical-align: top;\n",
       "    }\n",
       "\n",
       "    .dataframe thead th {\n",
       "        text-align: right;\n",
       "    }\n",
       "</style>\n",
       "<table border=\"1\" class=\"dataframe\">\n",
       "  <thead>\n",
       "    <tr style=\"text-align: right;\">\n",
       "      <th></th>\n",
       "      <th>image</th>\n",
       "    </tr>\n",
       "  </thead>\n",
       "  <tbody>\n",
       "    <tr>\n",
       "      <th>0</th>\n",
       "      <td>/SUM82/D1707401369/S00000/image_lev1.fits</td>\n",
       "    </tr>\n",
       "    <tr>\n",
       "      <th>1</th>\n",
       "      <td>/SUM78/D1707401375/S00000/image_lev1.fits</td>\n",
       "    </tr>\n",
       "    <tr>\n",
       "      <th>2</th>\n",
       "      <td>/SUM83/D1707401376/S00000/image_lev1.fits</td>\n",
       "    </tr>\n",
       "    <tr>\n",
       "      <th>3</th>\n",
       "      <td>/SUM78/D1707401373/S00000/image_lev1.fits</td>\n",
       "    </tr>\n",
       "    <tr>\n",
       "      <th>4</th>\n",
       "      <td>/SUM76/D1707205567/S00000/image_lev1.fits</td>\n",
       "    </tr>\n",
       "    <tr>\n",
       "      <th>5</th>\n",
       "      <td>/SUM77/D1707401372/S00000/image_lev1.fits</td>\n",
       "    </tr>\n",
       "    <tr>\n",
       "      <th>6</th>\n",
       "      <td>/SUM77/D1707401370/S00000/image_lev1.fits</td>\n",
       "    </tr>\n",
       "  </tbody>\n",
       "</table>\n",
       "</div>"
      ],
      "text/plain": [
       "                                       image\n",
       "0  /SUM82/D1707401369/S00000/image_lev1.fits\n",
       "1  /SUM78/D1707401375/S00000/image_lev1.fits\n",
       "2  /SUM83/D1707401376/S00000/image_lev1.fits\n",
       "3  /SUM78/D1707401373/S00000/image_lev1.fits\n",
       "4  /SUM76/D1707205567/S00000/image_lev1.fits\n",
       "5  /SUM77/D1707401372/S00000/image_lev1.fits\n",
       "6  /SUM77/D1707401370/S00000/image_lev1.fits"
      ]
     },
     "execution_count": null,
     "metadata": {},
     "output_type": "execute_result"
    }
   ],
   "source": [
    "segment_euv"
   ]
  },
  {
   "cell_type": "code",
   "execution_count": null,
   "metadata": {},
   "outputs": [],
   "source": []
  }
 ],
 "metadata": {
  "kernelspec": {
   "display_name": "python3",
   "language": "python",
   "name": "python3"
  }
 },
 "nbformat": 4,
 "nbformat_minor": 2
}
