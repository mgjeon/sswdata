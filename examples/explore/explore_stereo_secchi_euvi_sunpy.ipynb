{
 "cells": [
  {
   "cell_type": "markdown",
   "metadata": {},
   "source": [
    "# STEREO/SECCHI-EUVI"
   ]
  },
  {
   "cell_type": "code",
   "execution_count": null,
   "metadata": {},
   "outputs": [],
   "source": [
    "ds_path = \"./data/stereo/euvi\""
   ]
  },
  {
   "cell_type": "markdown",
   "metadata": {},
   "source": [
    "## explore"
   ]
  },
  {
   "cell_type": "code",
   "execution_count": null,
   "metadata": {},
   "outputs": [
    {
     "data": {
      "text/plain": [
       "[None, None, None, None]"
      ]
     },
     "execution_count": null,
     "metadata": {},
     "output_type": "execute_result"
    }
   ],
   "source": [
    "from pathlib import Path\n",
    "\n",
    "wavelengths = [171, 195, 284, 304]\n",
    "dirs = [str(wl) for wl in wavelengths]\n",
    "\n",
    "[(Path(ds_path) / \"a\" / wl).mkdir(parents=True, exist_ok=True) for wl in dirs]\n",
    "[(Path(ds_path) / \"b\" / wl).mkdir(parents=True, exist_ok=True) for wl in dirs]"
   ]
  },
  {
   "cell_type": "code",
   "execution_count": null,
   "metadata": {},
   "outputs": [],
   "source": [
    "import re\n",
    "import astropy.units as u\n",
    "from datetime import timedelta\n",
    "\n",
    "def parse_interval(interval):\n",
    "    match = re.match(r\"(\\d+)\\s*(\\D+)\", interval)\n",
    "    if match:\n",
    "        value = int(match.group(1))\n",
    "        unit = match.group(2).strip()\n",
    "    return value, unit\n",
    "\n",
    "def get_timedelta(interval):\n",
    "    value, unit = parse_interval(interval)\n",
    "    if unit == \"days\":\n",
    "        return timedelta(days=value)\n",
    "    elif unit == \"hours\":\n",
    "        return timedelta(hours=value)\n",
    "    elif unit == \"minutes\":\n",
    "        return timedelta(minutes=value)\n",
    "    else:\n",
    "        raise ValueError(\"Invalid unit. Only days, hours, and minutes are supported.\")\n",
    "    \n",
    "def get_astropy_time(interval):\n",
    "    value, unit = parse_interval(interval)\n",
    "    if unit == \"days\":\n",
    "        return value * u.day\n",
    "    elif unit == \"hours\":\n",
    "        return value * u.hour\n",
    "    elif unit == \"minutes\":\n",
    "        return value * u.minute\n",
    "    else:\n",
    "        raise ValueError(\"Invalid unit. Only days, hours, and minutes are supported.\")"
   ]
  },
  {
   "cell_type": "markdown",
   "metadata": {},
   "source": [
    "### SunPy"
   ]
  },
  {
   "cell_type": "code",
   "execution_count": null,
   "metadata": {},
   "outputs": [],
   "source": [
    "start_date = \"2011-01-01\"\n",
    "end_date = \"2011-01-02\""
   ]
  },
  {
   "cell_type": "code",
   "execution_count": null,
   "metadata": {},
   "outputs": [],
   "source": [
    "from datetime import datetime\n",
    "from dateutil.relativedelta import relativedelta\n",
    "from sunpy.net import Fido, attrs as a\n",
    "\n",
    "t_start = datetime.strptime(start_date, \"%Y-%m-%d\")\n",
    "t_end = datetime.strptime(end_date, \"%Y-%m-%d\")\n",
    "\n",
    "num_months = max(1, (t_end.year - t_start.year) * 12 + t_end.month - t_start.month + 1)\n",
    "month_dates = [t_start + relativedelta(months=i) for i in range(num_months)]\n",
    "for date in month_dates:\n",
    "    samples = []\n",
    "    for i in range(((date + relativedelta(months=1)) - date).days):\n",
    "        search_date = date + timedelta(days=i)\n",
    "        if search_date > t_end:\n",
    "            continue\n",
    "        search = Fido.search(\n",
    "            a.Time(search_date, search_date + timedelta(days=1)),\n",
    "            a.Provider(\"SSC\"),\n",
    "            a.Instrument(\"EUVI\"),\n",
    "            a.AttrOr([a.Wavelength(wav*u.AA) for wav in wavelengths]),\n",
    "        )\n",
    "        break"
   ]
  },
  {
   "cell_type": "code",
   "execution_count": null,
   "metadata": {},
   "outputs": [
    {
     "data": {
      "text/plain": [
       "4"
      ]
     },
     "execution_count": null,
     "metadata": {},
     "output_type": "execute_result"
    }
   ],
   "source": [
    "len(search)"
   ]
  },
  {
   "cell_type": "code",
   "execution_count": null,
   "metadata": {},
   "outputs": [],
   "source": [
    "search_171 = search[0]\n",
    "search_195 = search[1]\n",
    "search_284 = search[2]\n",
    "search_304 = search[3]"
   ]
  },
  {
   "cell_type": "code",
   "execution_count": null,
   "metadata": {},
   "outputs": [
    {
     "name": "stdout",
     "output_type": "stream",
     "text": [
      "STEREO-A 171: 80\n",
      "STEREO-A 195: 287\n",
      "STEREO-A 284: 30\n",
      "STEREO-A 304: 163\n",
      "\n",
      "STEREO-B 171: 12\n",
      "STEREO-B 195: 287\n",
      "STEREO-B 284: 12\n",
      "STEREO-B 304: 144\n"
     ]
    }
   ],
   "source": [
    "stereoA_171 = search_171[(search_171['Source'] == 'STEREO_A')]\n",
    "stereoA_195 = search_195[(search_195['Source'] == 'STEREO_A')]\n",
    "stereoA_284 = search_284[(search_284['Source'] == 'STEREO_A')]\n",
    "stereoA_304 = search_304[(search_304['Source'] == 'STEREO_A')]\n",
    "\n",
    "stereoB_171 = search_171[(search_171['Source'] == 'STEREO_B')]\n",
    "stereoB_195 = search_195[(search_195['Source'] == 'STEREO_B')]\n",
    "stereoB_284 = search_284[(search_284['Source'] == 'STEREO_B')]\n",
    "stereoB_304 = search_304[(search_304['Source'] == 'STEREO_B')]\n",
    "\n",
    "\n",
    "print(\"STEREO-A 171:\", len(stereoA_171))\n",
    "print(\"STEREO-A 195:\", len(stereoA_195))\n",
    "print(\"STEREO-A 284:\", len(stereoA_284))\n",
    "print(\"STEREO-A 304:\", len(stereoA_304))\n",
    "print()\n",
    "print(\"STEREO-B 171:\", len(stereoB_171))\n",
    "print(\"STEREO-B 195:\", len(stereoB_195))\n",
    "print(\"STEREO-B 284:\", len(stereoB_284))\n",
    "print(\"STEREO-B 304:\", len(stereoB_304))"
   ]
  },
  {
   "cell_type": "code",
   "execution_count": null,
   "metadata": {},
   "outputs": [
    {
     "name": "stdout",
     "output_type": "stream",
     "text": [
      "STEREO-A 171: 2011-01-01 00:14:00.000\n",
      "STEREO-A 195: 2011-01-01 00:05:30.000\n",
      "STEREO-A 284: 2011-01-01 00:16:30.000\n",
      "STEREO-A 304: 2011-01-01 00:06:15.000\n",
      "\n",
      "STEREO-B 171: 2011-01-01 00:14:46.000\n",
      "STEREO-B 195: 2011-01-01 00:06:16.000\n",
      "STEREO-B 284: 2011-01-01 00:17:16.000\n",
      "STEREO-B 304: 2011-01-01 00:07:01.000\n"
     ]
    }
   ],
   "source": [
    "stereoA_171_dates = stereoA_171['Start Time']\n",
    "stereoA_195_dates = stereoA_195['Start Time']\n",
    "stereoA_284_dates = stereoA_284['Start Time']\n",
    "stereoA_304_dates = stereoA_304['Start Time']\n",
    "\n",
    "stereoB_171_dates = stereoB_171['Start Time']\n",
    "stereoB_195_dates = stereoB_195['Start Time']\n",
    "stereoB_284_dates = stereoB_284['Start Time']\n",
    "stereoB_304_dates = stereoB_304['Start Time']\n",
    "\n",
    "print(\"STEREO-A 171:\", stereoA_171_dates[0])\n",
    "print(\"STEREO-A 195:\", stereoA_195_dates[0])\n",
    "print(\"STEREO-A 284:\", stereoA_284_dates[0])\n",
    "print(\"STEREO-A 304:\", stereoA_304_dates[0])\n",
    "print()\n",
    "print(\"STEREO-B 171:\", stereoB_171_dates[0])\n",
    "print(\"STEREO-B 195:\", stereoB_195_dates[0])\n",
    "print(\"STEREO-B 284:\", stereoB_284_dates[0])\n",
    "print(\"STEREO-B 304:\", stereoB_304_dates[0])"
   ]
  },
  {
   "cell_type": "code",
   "execution_count": null,
   "metadata": {},
   "outputs": [],
   "source": [
    "from datetime import datetime, timedelta\n",
    "from sunpy.net import Fido, attrs as a\n",
    "\n",
    "t_start = datetime.strptime(start_date, \"%Y-%m-%d\")\n",
    "t_end = datetime.strptime(end_date, \"%Y-%m-%d\")\n",
    "td = timedelta(days=1)\n",
    "cadence = get_astropy_time(\"1 days\")\n",
    "date_list = [t_start + i * td for i in range((t_end - t_start) // td)]\n",
    "\n",
    "for d in date_list:\n",
    "    stereo_a = Fido.search(\n",
    "        a.Time(d, d + td),\n",
    "        a.Instrument(\"EUVI\"), \n",
    "        a.Source('STEREO_A'), \n",
    "        a.AttrOr([a.Wavelength(wl*u.AA) for wl in wavelengths]),\n",
    "        a.Sample(cadence)\n",
    "    )\n",
    "    if d > datetime(2014, 10, 1): # loss of STEREO B\n",
    "        continue\n",
    "    stereo_b = Fido.search(\n",
    "        a.Time(d, d + td),\n",
    "        a.Instrument(\"EUVI\"), \n",
    "        a.Source('STEREO_B'), \n",
    "        a.AttrOr([a.Wavelength(wl*u.AA) for wl in wavelengths]),\n",
    "        a.Sample(cadence)\n",
    "    )"
   ]
  },
  {
   "cell_type": "code",
   "execution_count": null,
   "metadata": {},
   "outputs": [
    {
     "name": "stdout",
     "output_type": "stream",
     "text": [
      "STEREO-A 171: 1 2011-01-01 00:14:00.000 [171. 175.] Angstrom STEREO_A\n",
      "STEREO-A 195: 1 2011-01-01 00:05:30.000 [195. 195.] Angstrom STEREO_A\n",
      "STEREO-A 284: 1 2011-01-01 00:16:30.000 [284. 284.] Angstrom STEREO_A\n",
      "STEREO-A 304: 1 2011-01-01 00:06:15.000 [304. 304.] Angstrom STEREO_A\n",
      "\n",
      "STEREO-B 171: 1 2011-01-01 00:14:46.000 [171. 175.] Angstrom STEREO_B\n",
      "STEREO-B 195: 1 2011-01-01 00:06:16.000 [195. 195.] Angstrom STEREO_B\n",
      "STEREO-B 284: 1 2011-01-01 00:17:16.000 [284. 284.] Angstrom STEREO_B\n",
      "STEREO-B 304: 1 2011-01-01 00:07:01.000 [304. 304.] Angstrom STEREO_B\n"
     ]
    }
   ],
   "source": [
    "stereoA_171 = stereo_a[0]\n",
    "stereoA_195 = stereo_a[1]\n",
    "stereoA_284 = stereo_a[2]\n",
    "stereoA_304 = stereo_a[3]\n",
    "\n",
    "stereoB_171 = stereo_b[0]\n",
    "stereoB_195 = stereo_b[1]\n",
    "stereoB_284 = stereo_b[2]\n",
    "stereoB_304 = stereo_b[3]\n",
    "\n",
    "print(\"STEREO-A 171:\", len(stereoA_171), stereoA_171['Start Time'][0], stereoA_171[\"Wavelength\"][0], stereoA_171[\"Source\"][0])\n",
    "print(\"STEREO-A 195:\", len(stereoA_195), stereoA_195['Start Time'][0], stereoA_195[\"Wavelength\"][0], stereoA_195[\"Source\"][0])\n",
    "print(\"STEREO-A 284:\", len(stereoA_284), stereoA_284['Start Time'][0], stereoA_284[\"Wavelength\"][0], stereoA_284[\"Source\"][0])\n",
    "print(\"STEREO-A 304:\", len(stereoA_304), stereoA_304['Start Time'][0], stereoA_304[\"Wavelength\"][0], stereoA_304[\"Source\"][0])\n",
    "print()\n",
    "print(\"STEREO-B 171:\", len(stereoB_171), stereoB_171['Start Time'][0], stereoB_171[\"Wavelength\"][0], stereoB_171[\"Source\"][0])\n",
    "print(\"STEREO-B 195:\", len(stereoB_195), stereoB_195['Start Time'][0], stereoB_195[\"Wavelength\"][0], stereoB_195[\"Source\"][0])\n",
    "print(\"STEREO-B 284:\", len(stereoB_284), stereoB_284['Start Time'][0], stereoB_284[\"Wavelength\"][0], stereoB_284[\"Source\"][0])\n",
    "print(\"STEREO-B 304:\", len(stereoB_304), stereoB_304['Start Time'][0], stereoB_304[\"Wavelength\"][0], stereoB_304[\"Source\"][0])"
   ]
  },
  {
   "cell_type": "code",
   "execution_count": null,
   "metadata": {},
   "outputs": [],
   "source": []
  }
 ],
 "metadata": {
  "kernelspec": {
   "display_name": "python3",
   "language": "python",
   "name": "python3"
  }
 },
 "nbformat": 4,
 "nbformat_minor": 2
}
