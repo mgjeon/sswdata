{
 "cells": [
  {
   "cell_type": "markdown",
   "metadata": {},
   "source": [
    "# STEREO/SECCHI-EUVI"
   ]
  },
  {
   "cell_type": "code",
   "execution_count": null,
   "metadata": {},
   "outputs": [],
   "source": [
    "ds_path = \"./data/stereo/euvi\"\n",
    "\n",
    "start_date = \"2011-01-01\"\n",
    "end_date = \"2011-01-02\""
   ]
  },
  {
   "cell_type": "markdown",
   "metadata": {},
   "source": [
    "## explore"
   ]
  },
  {
   "cell_type": "code",
   "execution_count": null,
   "metadata": {},
   "outputs": [
    {
     "data": {
      "text/plain": [
       "[None, None, None, None]"
      ]
     },
     "execution_count": null,
     "metadata": {},
     "output_type": "execute_result"
    }
   ],
   "source": [
    "from pathlib import Path\n",
    "\n",
    "wavelengths = [171, 195, 284, 304]\n",
    "dirs = [str(wl) for wl in wavelengths]\n",
    "\n",
    "[(Path(ds_path) / \"a\" / wl).mkdir(parents=True, exist_ok=True) for wl in dirs]\n",
    "[(Path(ds_path) / \"b\" / wl).mkdir(parents=True, exist_ok=True) for wl in dirs]"
   ]
  },
  {
   "cell_type": "code",
   "execution_count": null,
   "metadata": {},
   "outputs": [],
   "source": [
    "from datetime import datetime, timedelta\n",
    "\n",
    "t_start = datetime.strptime(start_date, \"%Y-%m-%d\")\n",
    "t_end = datetime.strptime(end_date, \"%Y-%m-%d\")\n",
    "td = timedelta(hours=12)\n",
    "date_list = [t_start + i * td for i in range((t_end - t_start) // td)]"
   ]
  },
  {
   "cell_type": "code",
   "execution_count": null,
   "metadata": {},
   "outputs": [],
   "source": [
    "d = date_list[0]"
   ]
  },
  {
   "cell_type": "code",
   "execution_count": null,
   "metadata": {},
   "outputs": [
    {
     "data": {
      "text/plain": [
       "datetime.datetime(2011, 1, 1, 0, 0)"
      ]
     },
     "execution_count": null,
     "metadata": {},
     "output_type": "execute_result"
    }
   ],
   "source": [
    "d"
   ]
  },
  {
   "cell_type": "code",
   "execution_count": null,
   "metadata": {},
   "outputs": [],
   "source": [
    "root = \"https://stereo-ssc.nascom.nasa.gov/data/ins_data/secchi/L0_YMD/\""
   ]
  },
  {
   "cell_type": "code",
   "execution_count": null,
   "metadata": {},
   "outputs": [],
   "source": [
    "root_a = root + \"a/img/euvi/\"\n",
    "root_b = root + \"b/img/euvi/\""
   ]
  },
  {
   "cell_type": "code",
   "execution_count": null,
   "metadata": {},
   "outputs": [
    {
     "data": {
      "text/plain": [
       "'2011/01/01/'"
      ]
     },
     "execution_count": null,
     "metadata": {},
     "output_type": "execute_result"
    }
   ],
   "source": [
    "date = datetime.strftime(d, \"%Y/%m/%d/\")\n",
    "date"
   ]
  },
  {
   "cell_type": "code",
   "execution_count": null,
   "metadata": {},
   "outputs": [],
   "source": [
    "stereo_a_url = root_a + date\n",
    "stereo_b_url = root_b + date"
   ]
  },
  {
   "cell_type": "code",
   "execution_count": null,
   "metadata": {},
   "outputs": [
    {
     "data": {
      "text/plain": [
       "'https://stereo-ssc.nascom.nasa.gov/data/ins_data/secchi/L0_YMD/a/img/euvi/2011/01/01/'"
      ]
     },
     "execution_count": null,
     "metadata": {},
     "output_type": "execute_result"
    }
   ],
   "source": [
    "stereo_a_url"
   ]
  },
  {
   "cell_type": "code",
   "execution_count": null,
   "metadata": {},
   "outputs": [
    {
     "data": {
      "text/plain": [
       "'https://stereo-ssc.nascom.nasa.gov/data/ins_data/secchi/L0_YMD/b/img/euvi/2011/01/01/'"
      ]
     },
     "execution_count": null,
     "metadata": {},
     "output_type": "execute_result"
    }
   ],
   "source": [
    "stereo_b_url"
   ]
  },
  {
   "cell_type": "code",
   "execution_count": null,
   "metadata": {},
   "outputs": [],
   "source": [
    "from urllib.request import urlopen\n",
    "from urllib.error import HTTPError, URLError\n",
    "from bs4 import BeautifulSoup\n",
    "\n",
    "def get_bs(url):\n",
    "    try:\n",
    "        html = urlopen(url)\n",
    "    except HTTPError as e:\n",
    "        print(e)\n",
    "    except URLError as e:\n",
    "        print(\"The server could not be found!\")\n",
    "    else:\n",
    "        bs = BeautifulSoup(html.read(), 'html.parser')\n",
    "        return bs"
   ]
  },
  {
   "cell_type": "code",
   "execution_count": null,
   "metadata": {},
   "outputs": [],
   "source": [
    "bs = get_bs(stereo_a_url)"
   ]
  },
  {
   "cell_type": "code",
   "execution_count": null,
   "metadata": {},
   "outputs": [],
   "source": [
    "link_list = bs.find_all('a')"
   ]
  },
  {
   "cell_type": "code",
   "execution_count": null,
   "metadata": {},
   "outputs": [
    {
     "data": {
      "text/plain": [
       "606"
      ]
     },
     "execution_count": null,
     "metadata": {},
     "output_type": "execute_result"
    }
   ],
   "source": [
    "len(link_list)"
   ]
  },
  {
   "cell_type": "code",
   "execution_count": null,
   "metadata": {},
   "outputs": [
    {
     "data": {
      "text/plain": [
       "[<a href=\"?C=N;O=D\">Name</a>,\n",
       " <a href=\"?C=M;O=A\">Last modified</a>,\n",
       " <a href=\"?C=S;O=A\">Size</a>,\n",
       " <a href=\"/data/ins_data/secchi/L0_YMD/a/img/euvi/2011/01/\">Parent Directory</a>,\n",
       " <a href=\"20110101_000530_n4euA.fts\">20110101_000530_n4euA.fts</a>,\n",
       " <a href=\"20110101_000615_n4euA.fts\">20110101_000615_n4euA.fts</a>,\n",
       " <a href=\"20110101_001030_n4euA.fts\">20110101_001030_n4euA.fts</a>,\n",
       " <a href=\"20110101_001400_n4euA.fts\">20110101_001400_n4euA.fts</a>,\n",
       " <a href=\"20110101_001530_n4euA.fts\">20110101_001530_n4euA.fts</a>,\n",
       " <a href=\"20110101_001615_n4euA.fts\">20110101_001615_n4euA.fts</a>]"
      ]
     },
     "execution_count": null,
     "metadata": {},
     "output_type": "execute_result"
    }
   ],
   "source": [
    "link_list[:10]"
   ]
  },
  {
   "cell_type": "code",
   "execution_count": null,
   "metadata": {},
   "outputs": [
    {
     "data": {
      "text/plain": [
       "re.compile(r'20110101.*.fts', re.UNICODE)"
      ]
     },
     "execution_count": null,
     "metadata": {},
     "output_type": "execute_result"
    }
   ],
   "source": [
    "import re\n",
    "fts_re = re.compile(datetime.strftime(d, \"%Y%m%d\") + \".*.fts\")\n",
    "fts_re"
   ]
  },
  {
   "cell_type": "code",
   "execution_count": null,
   "metadata": {},
   "outputs": [],
   "source": [
    "fts_list = bs.find_all('a', {'href': fts_re})"
   ]
  },
  {
   "cell_type": "code",
   "execution_count": null,
   "metadata": {},
   "outputs": [
    {
     "data": {
      "text/plain": [
       "602"
      ]
     },
     "execution_count": null,
     "metadata": {},
     "output_type": "execute_result"
    }
   ],
   "source": [
    "len(fts_list)"
   ]
  },
  {
   "cell_type": "code",
   "execution_count": null,
   "metadata": {},
   "outputs": [
    {
     "data": {
      "text/plain": [
       "<a href=\"20110101_000530_n4euA.fts\">20110101_000530_n4euA.fts</a>"
      ]
     },
     "execution_count": null,
     "metadata": {},
     "output_type": "execute_result"
    }
   ],
   "source": [
    "f = fts_list[0]\n",
    "f"
   ]
  },
  {
   "cell_type": "code",
   "execution_count": null,
   "metadata": {},
   "outputs": [],
   "source": [
    "for i, f in enumerate(fts_list):\n",
    "    obstime = datetime.strptime(f.get('href')[:15], \"%Y%m%d_%H%M%S\")\n",
    "    if obstime.hour != d.hour:\n",
    "        break"
   ]
  },
  {
   "cell_type": "code",
   "execution_count": null,
   "metadata": {},
   "outputs": [],
   "source": [
    "def get_idx(fts_list, date):\n",
    "    # find the first index of the fts file that has the same hour as the date\n",
    "    for i, f in enumerate(fts_list):\n",
    "        obstime = datetime.strptime(f.get('href')[:15], \"%Y%m%d_%H%M%S\")\n",
    "        if obstime.hour == date.hour:\n",
    "            return i"
   ]
  },
  {
   "cell_type": "code",
   "execution_count": null,
   "metadata": {},
   "outputs": [
    {
     "data": {
      "text/plain": [
       "<a href=\"20110101_000530_n4euA.fts\">20110101_000530_n4euA.fts</a>"
      ]
     },
     "execution_count": null,
     "metadata": {},
     "output_type": "execute_result"
    }
   ],
   "source": [
    "i = get_idx(fts_list, d)\n",
    "fts_list[i]"
   ]
  },
  {
   "cell_type": "code",
   "execution_count": null,
   "metadata": {},
   "outputs": [
    {
     "name": "stdout",
     "output_type": "stream",
     "text": [
      "2011-01-01 12:00:00\n"
     ]
    },
    {
     "data": {
      "text/plain": [
       "<a href=\"20110101_120030_n4euA.fts\">20110101_120030_n4euA.fts</a>"
      ]
     },
     "execution_count": null,
     "metadata": {},
     "output_type": "execute_result"
    }
   ],
   "source": [
    "dd = date_list[1]\n",
    "print(dd)\n",
    "i = get_idx(fts_list, dd)\n",
    "fts_list[i]"
   ]
  },
  {
   "cell_type": "code",
   "execution_count": null,
   "metadata": {},
   "outputs": [],
   "source": [
    "from astropy.io import fits"
   ]
  },
  {
   "cell_type": "code",
   "execution_count": null,
   "metadata": {},
   "outputs": [
    {
     "data": {
      "text/plain": [
       "'20110101_010030_n4euA.fts'"
      ]
     },
     "execution_count": null,
     "metadata": {},
     "output_type": "execute_result"
    }
   ],
   "source": [
    "f.get('href')"
   ]
  },
  {
   "cell_type": "code",
   "execution_count": null,
   "metadata": {},
   "outputs": [
    {
     "data": {
      "text/plain": [
       "'2011-01-01T01:00:30.007'"
      ]
     },
     "execution_count": null,
     "metadata": {},
     "output_type": "execute_result"
    }
   ],
   "source": [
    "url = stereo_a_url + f.get('href')\n",
    "header = fits.getheader(url)\n",
    "header['DATE-OBS']"
   ]
  },
  {
   "cell_type": "code",
   "execution_count": null,
   "metadata": {},
   "outputs": [],
   "source": [
    "# Create url list until all possible wavelengths are found.\n",
    "data = []\n",
    "possible_values = {171, 195, 284, 304}\n",
    "seen_values = set()\n",
    "\n",
    "idx = get_idx(fts_list, dd)\n",
    "for f in fts_list[idx:]:\n",
    "    url = stereo_a_url + f.get('href')\n",
    "    # hdul = fits.open(url)\n",
    "    # header = hdul[0].header\n",
    "    # hdul.close()\n",
    "    header = fits.getheader(url)\n",
    "    if header['NAXIS1'] < 2048 or header['NAXIS2'] < 2048 or header['NMISSING'] != 0:\n",
    "        print(\"Invalid file:\", f.get('href'))\n",
    "        continue\n",
    "\n",
    "    info = {}\n",
    "    info['obstime'] = datetime.strptime(f.get('href')[:15], \"%Y%m%d_%H%M%S\")\n",
    "    info['wavelength'] = header['WAVELNTH']\n",
    "    info['source'] = \"a\"\n",
    "    info['url'] = url\n",
    "    data.append(info)\n",
    "\n",
    "    seen_values.add(int(header['WAVELNTH']))\n",
    "    if seen_values == possible_values:\n",
    "        break"
   ]
  },
  {
   "cell_type": "code",
   "execution_count": null,
   "metadata": {},
   "outputs": [
    {
     "data": {
      "text/plain": [
       "8"
      ]
     },
     "execution_count": null,
     "metadata": {},
     "output_type": "execute_result"
    }
   ],
   "source": [
    "len(data)"
   ]
  },
  {
   "cell_type": "code",
   "execution_count": null,
   "metadata": {},
   "outputs": [],
   "source": [
    "import pandas as pd"
   ]
  },
  {
   "cell_type": "code",
   "execution_count": null,
   "metadata": {},
   "outputs": [
    {
     "data": {
      "text/html": [
       "<div>\n",
       "<style scoped>\n",
       "    .dataframe tbody tr th:only-of-type {\n",
       "        vertical-align: middle;\n",
       "    }\n",
       "\n",
       "    .dataframe tbody tr th {\n",
       "        vertical-align: top;\n",
       "    }\n",
       "\n",
       "    .dataframe thead th {\n",
       "        text-align: right;\n",
       "    }\n",
       "</style>\n",
       "<table border=\"1\" class=\"dataframe\">\n",
       "  <thead>\n",
       "    <tr style=\"text-align: right;\">\n",
       "      <th></th>\n",
       "      <th>obstime</th>\n",
       "      <th>wavelength</th>\n",
       "      <th>source</th>\n",
       "      <th>url</th>\n",
       "    </tr>\n",
       "  </thead>\n",
       "  <tbody>\n",
       "    <tr>\n",
       "      <th>0</th>\n",
       "      <td>2011-01-01 12:00:30</td>\n",
       "      <td>195</td>\n",
       "      <td>a</td>\n",
       "      <td>https://stereo-ssc.nascom.nasa.gov/data/ins_da...</td>\n",
       "    </tr>\n",
       "    <tr>\n",
       "      <th>1</th>\n",
       "      <td>2011-01-01 12:05:30</td>\n",
       "      <td>195</td>\n",
       "      <td>a</td>\n",
       "      <td>https://stereo-ssc.nascom.nasa.gov/data/ins_da...</td>\n",
       "    </tr>\n",
       "    <tr>\n",
       "      <th>2</th>\n",
       "      <td>2011-01-01 12:06:15</td>\n",
       "      <td>304</td>\n",
       "      <td>a</td>\n",
       "      <td>https://stereo-ssc.nascom.nasa.gov/data/ins_da...</td>\n",
       "    </tr>\n",
       "    <tr>\n",
       "      <th>3</th>\n",
       "      <td>2011-01-01 12:10:30</td>\n",
       "      <td>195</td>\n",
       "      <td>a</td>\n",
       "      <td>https://stereo-ssc.nascom.nasa.gov/data/ins_da...</td>\n",
       "    </tr>\n",
       "    <tr>\n",
       "      <th>4</th>\n",
       "      <td>2011-01-01 12:14:00</td>\n",
       "      <td>171</td>\n",
       "      <td>a</td>\n",
       "      <td>https://stereo-ssc.nascom.nasa.gov/data/ins_da...</td>\n",
       "    </tr>\n",
       "    <tr>\n",
       "      <th>5</th>\n",
       "      <td>2011-01-01 12:15:30</td>\n",
       "      <td>195</td>\n",
       "      <td>a</td>\n",
       "      <td>https://stereo-ssc.nascom.nasa.gov/data/ins_da...</td>\n",
       "    </tr>\n",
       "    <tr>\n",
       "      <th>6</th>\n",
       "      <td>2011-01-01 12:16:15</td>\n",
       "      <td>304</td>\n",
       "      <td>a</td>\n",
       "      <td>https://stereo-ssc.nascom.nasa.gov/data/ins_da...</td>\n",
       "    </tr>\n",
       "    <tr>\n",
       "      <th>7</th>\n",
       "      <td>2011-01-01 12:16:30</td>\n",
       "      <td>284</td>\n",
       "      <td>a</td>\n",
       "      <td>https://stereo-ssc.nascom.nasa.gov/data/ins_da...</td>\n",
       "    </tr>\n",
       "  </tbody>\n",
       "</table>\n",
       "</div>"
      ],
      "text/plain": [
       "              obstime  wavelength source  \\\n",
       "0 2011-01-01 12:00:30         195      a   \n",
       "1 2011-01-01 12:05:30         195      a   \n",
       "2 2011-01-01 12:06:15         304      a   \n",
       "3 2011-01-01 12:10:30         195      a   \n",
       "4 2011-01-01 12:14:00         171      a   \n",
       "5 2011-01-01 12:15:30         195      a   \n",
       "6 2011-01-01 12:16:15         304      a   \n",
       "7 2011-01-01 12:16:30         284      a   \n",
       "\n",
       "                                                 url  \n",
       "0  https://stereo-ssc.nascom.nasa.gov/data/ins_da...  \n",
       "1  https://stereo-ssc.nascom.nasa.gov/data/ins_da...  \n",
       "2  https://stereo-ssc.nascom.nasa.gov/data/ins_da...  \n",
       "3  https://stereo-ssc.nascom.nasa.gov/data/ins_da...  \n",
       "4  https://stereo-ssc.nascom.nasa.gov/data/ins_da...  \n",
       "5  https://stereo-ssc.nascom.nasa.gov/data/ins_da...  \n",
       "6  https://stereo-ssc.nascom.nasa.gov/data/ins_da...  \n",
       "7  https://stereo-ssc.nascom.nasa.gov/data/ins_da...  "
      ]
     },
     "execution_count": null,
     "metadata": {},
     "output_type": "execute_result"
    }
   ],
   "source": [
    "df = pd.DataFrame(data)\n",
    "df"
   ]
  },
  {
   "cell_type": "code",
   "execution_count": null,
   "metadata": {},
   "outputs": [],
   "source": [
    "df_171 = df[df['wavelength'] == 171].sort_values(by='obstime').reset_index(drop=True)\n",
    "df_195 = df[df['wavelength'] == 195].sort_values(by='obstime').reset_index(drop=True)\n",
    "df_284 = df[df['wavelength'] == 284].sort_values(by='obstime').reset_index(drop=True)\n",
    "df_304 = df[df['wavelength'] == 304].sort_values(by='obstime').reset_index(drop=True)"
   ]
  },
  {
   "cell_type": "code",
   "execution_count": null,
   "metadata": {},
   "outputs": [
    {
     "data": {
      "text/html": [
       "<div>\n",
       "<style scoped>\n",
       "    .dataframe tbody tr th:only-of-type {\n",
       "        vertical-align: middle;\n",
       "    }\n",
       "\n",
       "    .dataframe tbody tr th {\n",
       "        vertical-align: top;\n",
       "    }\n",
       "\n",
       "    .dataframe thead th {\n",
       "        text-align: right;\n",
       "    }\n",
       "</style>\n",
       "<table border=\"1\" class=\"dataframe\">\n",
       "  <thead>\n",
       "    <tr style=\"text-align: right;\">\n",
       "      <th></th>\n",
       "      <th>obstime</th>\n",
       "      <th>wavelength</th>\n",
       "      <th>source</th>\n",
       "      <th>url</th>\n",
       "    </tr>\n",
       "  </thead>\n",
       "  <tbody>\n",
       "    <tr>\n",
       "      <th>0</th>\n",
       "      <td>2011-01-01 12:14:00</td>\n",
       "      <td>171</td>\n",
       "      <td>a</td>\n",
       "      <td>https://stereo-ssc.nascom.nasa.gov/data/ins_da...</td>\n",
       "    </tr>\n",
       "  </tbody>\n",
       "</table>\n",
       "</div>"
      ],
      "text/plain": [
       "              obstime  wavelength source  \\\n",
       "0 2011-01-01 12:14:00         171      a   \n",
       "\n",
       "                                                 url  \n",
       "0  https://stereo-ssc.nascom.nasa.gov/data/ins_da...  "
      ]
     },
     "execution_count": null,
     "metadata": {},
     "output_type": "execute_result"
    }
   ],
   "source": [
    "df_171"
   ]
  },
  {
   "cell_type": "code",
   "execution_count": null,
   "metadata": {},
   "outputs": [
    {
     "data": {
      "text/html": [
       "<div>\n",
       "<style scoped>\n",
       "    .dataframe tbody tr th:only-of-type {\n",
       "        vertical-align: middle;\n",
       "    }\n",
       "\n",
       "    .dataframe tbody tr th {\n",
       "        vertical-align: top;\n",
       "    }\n",
       "\n",
       "    .dataframe thead th {\n",
       "        text-align: right;\n",
       "    }\n",
       "</style>\n",
       "<table border=\"1\" class=\"dataframe\">\n",
       "  <thead>\n",
       "    <tr style=\"text-align: right;\">\n",
       "      <th></th>\n",
       "      <th>obstime</th>\n",
       "      <th>wavelength</th>\n",
       "      <th>source</th>\n",
       "      <th>url</th>\n",
       "    </tr>\n",
       "  </thead>\n",
       "  <tbody>\n",
       "    <tr>\n",
       "      <th>0</th>\n",
       "      <td>2011-01-01 12:00:30</td>\n",
       "      <td>195</td>\n",
       "      <td>a</td>\n",
       "      <td>https://stereo-ssc.nascom.nasa.gov/data/ins_da...</td>\n",
       "    </tr>\n",
       "    <tr>\n",
       "      <th>1</th>\n",
       "      <td>2011-01-01 12:05:30</td>\n",
       "      <td>195</td>\n",
       "      <td>a</td>\n",
       "      <td>https://stereo-ssc.nascom.nasa.gov/data/ins_da...</td>\n",
       "    </tr>\n",
       "    <tr>\n",
       "      <th>2</th>\n",
       "      <td>2011-01-01 12:10:30</td>\n",
       "      <td>195</td>\n",
       "      <td>a</td>\n",
       "      <td>https://stereo-ssc.nascom.nasa.gov/data/ins_da...</td>\n",
       "    </tr>\n",
       "    <tr>\n",
       "      <th>3</th>\n",
       "      <td>2011-01-01 12:15:30</td>\n",
       "      <td>195</td>\n",
       "      <td>a</td>\n",
       "      <td>https://stereo-ssc.nascom.nasa.gov/data/ins_da...</td>\n",
       "    </tr>\n",
       "  </tbody>\n",
       "</table>\n",
       "</div>"
      ],
      "text/plain": [
       "              obstime  wavelength source  \\\n",
       "0 2011-01-01 12:00:30         195      a   \n",
       "1 2011-01-01 12:05:30         195      a   \n",
       "2 2011-01-01 12:10:30         195      a   \n",
       "3 2011-01-01 12:15:30         195      a   \n",
       "\n",
       "                                                 url  \n",
       "0  https://stereo-ssc.nascom.nasa.gov/data/ins_da...  \n",
       "1  https://stereo-ssc.nascom.nasa.gov/data/ins_da...  \n",
       "2  https://stereo-ssc.nascom.nasa.gov/data/ins_da...  \n",
       "3  https://stereo-ssc.nascom.nasa.gov/data/ins_da...  "
      ]
     },
     "execution_count": null,
     "metadata": {},
     "output_type": "execute_result"
    }
   ],
   "source": [
    "df_195"
   ]
  },
  {
   "cell_type": "code",
   "execution_count": null,
   "metadata": {},
   "outputs": [
    {
     "data": {
      "text/html": [
       "<div>\n",
       "<style scoped>\n",
       "    .dataframe tbody tr th:only-of-type {\n",
       "        vertical-align: middle;\n",
       "    }\n",
       "\n",
       "    .dataframe tbody tr th {\n",
       "        vertical-align: top;\n",
       "    }\n",
       "\n",
       "    .dataframe thead th {\n",
       "        text-align: right;\n",
       "    }\n",
       "</style>\n",
       "<table border=\"1\" class=\"dataframe\">\n",
       "  <thead>\n",
       "    <tr style=\"text-align: right;\">\n",
       "      <th></th>\n",
       "      <th>obstime</th>\n",
       "      <th>wavelength</th>\n",
       "      <th>source</th>\n",
       "      <th>url</th>\n",
       "    </tr>\n",
       "  </thead>\n",
       "  <tbody>\n",
       "    <tr>\n",
       "      <th>0</th>\n",
       "      <td>2011-01-01 12:16:30</td>\n",
       "      <td>284</td>\n",
       "      <td>a</td>\n",
       "      <td>https://stereo-ssc.nascom.nasa.gov/data/ins_da...</td>\n",
       "    </tr>\n",
       "  </tbody>\n",
       "</table>\n",
       "</div>"
      ],
      "text/plain": [
       "              obstime  wavelength source  \\\n",
       "0 2011-01-01 12:16:30         284      a   \n",
       "\n",
       "                                                 url  \n",
       "0  https://stereo-ssc.nascom.nasa.gov/data/ins_da...  "
      ]
     },
     "execution_count": null,
     "metadata": {},
     "output_type": "execute_result"
    }
   ],
   "source": [
    "df_284"
   ]
  },
  {
   "cell_type": "code",
   "execution_count": null,
   "metadata": {},
   "outputs": [
    {
     "data": {
      "text/html": [
       "<div>\n",
       "<style scoped>\n",
       "    .dataframe tbody tr th:only-of-type {\n",
       "        vertical-align: middle;\n",
       "    }\n",
       "\n",
       "    .dataframe tbody tr th {\n",
       "        vertical-align: top;\n",
       "    }\n",
       "\n",
       "    .dataframe thead th {\n",
       "        text-align: right;\n",
       "    }\n",
       "</style>\n",
       "<table border=\"1\" class=\"dataframe\">\n",
       "  <thead>\n",
       "    <tr style=\"text-align: right;\">\n",
       "      <th></th>\n",
       "      <th>obstime</th>\n",
       "      <th>wavelength</th>\n",
       "      <th>source</th>\n",
       "      <th>url</th>\n",
       "    </tr>\n",
       "  </thead>\n",
       "  <tbody>\n",
       "    <tr>\n",
       "      <th>0</th>\n",
       "      <td>2011-01-01 12:06:15</td>\n",
       "      <td>304</td>\n",
       "      <td>a</td>\n",
       "      <td>https://stereo-ssc.nascom.nasa.gov/data/ins_da...</td>\n",
       "    </tr>\n",
       "    <tr>\n",
       "      <th>1</th>\n",
       "      <td>2011-01-01 12:16:15</td>\n",
       "      <td>304</td>\n",
       "      <td>a</td>\n",
       "      <td>https://stereo-ssc.nascom.nasa.gov/data/ins_da...</td>\n",
       "    </tr>\n",
       "  </tbody>\n",
       "</table>\n",
       "</div>"
      ],
      "text/plain": [
       "              obstime  wavelength source  \\\n",
       "0 2011-01-01 12:06:15         304      a   \n",
       "1 2011-01-01 12:16:15         304      a   \n",
       "\n",
       "                                                 url  \n",
       "0  https://stereo-ssc.nascom.nasa.gov/data/ins_da...  \n",
       "1  https://stereo-ssc.nascom.nasa.gov/data/ins_da...  "
      ]
     },
     "execution_count": null,
     "metadata": {},
     "output_type": "execute_result"
    }
   ],
   "source": [
    "df_304"
   ]
  },
  {
   "cell_type": "code",
   "execution_count": null,
   "metadata": {},
   "outputs": [
    {
     "data": {
      "text/plain": [
       "Timestamp('2011-01-01 12:14:00')"
      ]
     },
     "execution_count": null,
     "metadata": {},
     "output_type": "execute_result"
    }
   ],
   "source": [
    "sample = df_171.iloc[0]\n",
    "sample.obstime"
   ]
  },
  {
   "cell_type": "code",
   "execution_count": null,
   "metadata": {},
   "outputs": [],
   "source": [
    "def round_hour(t):\n",
    "    # Rounds to nearest hour by adding a timedelta hour if minute >= 30\n",
    "    return (t.replace(second=0, microsecond=0, minute=0, hour=t.hour)\n",
    "            + timedelta(hours=t.minute // 30))"
   ]
  },
  {
   "cell_type": "code",
   "execution_count": null,
   "metadata": {},
   "outputs": [
    {
     "data": {
      "text/plain": [
       "Timestamp('2011-01-01 12:00:00')"
      ]
     },
     "execution_count": null,
     "metadata": {},
     "output_type": "execute_result"
    }
   ],
   "source": [
    "round_hour(sample.obstime)"
   ]
  },
  {
   "cell_type": "code",
   "execution_count": null,
   "metadata": {},
   "outputs": [
    {
     "data": {
      "text/plain": [
       "PosixPath('data/stereo/euvi/a/171')"
      ]
     },
     "execution_count": null,
     "metadata": {},
     "output_type": "execute_result"
    }
   ],
   "source": [
    "Path(ds_path) / sample.source / str(sample.wavelength)"
   ]
  },
  {
   "cell_type": "code",
   "execution_count": null,
   "metadata": {},
   "outputs": [],
   "source": []
  }
 ],
 "metadata": {
  "kernelspec": {
   "display_name": "python3",
   "language": "python",
   "name": "python3"
  }
 },
 "nbformat": 4,
 "nbformat_minor": 2
}
