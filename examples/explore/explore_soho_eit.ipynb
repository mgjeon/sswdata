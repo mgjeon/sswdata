{
 "cells": [
  {
   "cell_type": "markdown",
   "metadata": {},
   "source": [
    "# SOHO/EIT"
   ]
  },
  {
   "cell_type": "code",
   "execution_count": null,
   "metadata": {},
   "outputs": [],
   "source": [
    "ds_path = \"./data/soho/eit\"\n",
    "\n",
    "start_date = \"2007-12-13\"\n",
    "end_date = \"2007-12-14\""
   ]
  },
  {
   "cell_type": "markdown",
   "metadata": {},
   "source": [
    "## explore"
   ]
  },
  {
   "cell_type": "code",
   "execution_count": null,
   "metadata": {},
   "outputs": [
    {
     "data": {
      "text/plain": [
       "[None, None, None, None]"
      ]
     },
     "execution_count": null,
     "metadata": {},
     "output_type": "execute_result"
    }
   ],
   "source": [
    "from pathlib import Path\n",
    "\n",
    "wavelengths = [171, 195, 284, 304]\n",
    "dirs = [str(wl) for wl in wavelengths]\n",
    "\n",
    "[(Path(ds_path) / wl).mkdir(parents=True, exist_ok=True) for wl in dirs]"
   ]
  },
  {
   "cell_type": "code",
   "execution_count": null,
   "metadata": {},
   "outputs": [],
   "source": [
    "from datetime import datetime, timedelta\n",
    "\n",
    "t_start = datetime.strptime(start_date, \"%Y-%m-%d\")\n",
    "t_end = datetime.strptime(end_date, \"%Y-%m-%d\")\n",
    "td = timedelta(hours=12)\n",
    "date_list = [t_start + i * td for i in range((t_end - t_start) // td)]"
   ]
  },
  {
   "cell_type": "code",
   "execution_count": null,
   "metadata": {},
   "outputs": [
    {
     "data": {
      "text/plain": [
       "datetime.datetime(2007, 12, 13, 0, 0)"
      ]
     },
     "execution_count": null,
     "metadata": {},
     "output_type": "execute_result"
    }
   ],
   "source": [
    "d = date_list[0]\n",
    "d"
   ]
  },
  {
   "cell_type": "markdown",
   "metadata": {},
   "source": [
    "### L0"
   ]
  },
  {
   "cell_type": "code",
   "execution_count": null,
   "metadata": {},
   "outputs": [],
   "source": [
    "root = \"https://umbra.nascom.nasa.gov/pub/eit/lz/\""
   ]
  },
  {
   "cell_type": "code",
   "execution_count": null,
   "metadata": {},
   "outputs": [
    {
     "data": {
      "text/plain": [
       "'2007/12/'"
      ]
     },
     "execution_count": null,
     "metadata": {},
     "output_type": "execute_result"
    }
   ],
   "source": [
    "date = datetime.strftime(d, \"%Y/%m/\")\n",
    "date"
   ]
  },
  {
   "cell_type": "code",
   "execution_count": null,
   "metadata": {},
   "outputs": [
    {
     "data": {
      "text/plain": [
       "'https://umbra.nascom.nasa.gov/pub/eit/lz/2007/12/'"
      ]
     },
     "execution_count": null,
     "metadata": {},
     "output_type": "execute_result"
    }
   ],
   "source": [
    "soho_url = root + date\n",
    "soho_url"
   ]
  },
  {
   "cell_type": "code",
   "execution_count": null,
   "metadata": {},
   "outputs": [],
   "source": [
    "from itipy.download.util import get_bs"
   ]
  },
  {
   "cell_type": "code",
   "execution_count": null,
   "metadata": {},
   "outputs": [],
   "source": [
    "bs = get_bs(soho_url)"
   ]
  },
  {
   "cell_type": "code",
   "execution_count": null,
   "metadata": {},
   "outputs": [],
   "source": [
    "link_list = bs.find_all('a')"
   ]
  },
  {
   "cell_type": "code",
   "execution_count": null,
   "metadata": {},
   "outputs": [
    {
     "data": {
      "text/plain": [
       "3631"
      ]
     },
     "execution_count": null,
     "metadata": {},
     "output_type": "execute_result"
    }
   ],
   "source": [
    "len(link_list)"
   ]
  },
  {
   "cell_type": "code",
   "execution_count": null,
   "metadata": {},
   "outputs": [
    {
     "data": {
      "text/plain": [
       "[<a href=\"?C=N;O=D\">Name</a>,\n",
       " <a href=\"?C=M;O=A\">Last modified</a>,\n",
       " <a href=\"?C=S;O=A\">Size</a>,\n",
       " <a href=\"?C=D;O=A\">Description</a>,\n",
       " <a href=\"/pub/eit/lz/2007/\">Parent Directory</a>,\n",
       " <a href=\"efz20071201.000009\">efz20071201.000009</a>,\n",
       " <a href=\"efz20071201.001210\">efz20071201.001210</a>,\n",
       " <a href=\"efz20071201.002412\">efz20071201.002412</a>,\n",
       " <a href=\"efz20071201.003609\">efz20071201.003609</a>,\n",
       " <a href=\"efz20071201.004809\">efz20071201.004809</a>]"
      ]
     },
     "execution_count": null,
     "metadata": {},
     "output_type": "execute_result"
    }
   ],
   "source": [
    "link_list[:10]"
   ]
  },
  {
   "cell_type": "code",
   "execution_count": null,
   "metadata": {},
   "outputs": [
    {
     "data": {
      "text/plain": [
       "re.compile(r'efz20071213.*', re.UNICODE)"
      ]
     },
     "execution_count": null,
     "metadata": {},
     "output_type": "execute_result"
    }
   ],
   "source": [
    "import re\n",
    "file_re = re.compile(\"efz\"+datetime.strftime(d, \"%Y%m%d\") + \".*\")\n",
    "file_re"
   ]
  },
  {
   "cell_type": "code",
   "execution_count": null,
   "metadata": {},
   "outputs": [
    {
     "data": {
      "text/plain": [
       "120"
      ]
     },
     "execution_count": null,
     "metadata": {},
     "output_type": "execute_result"
    }
   ],
   "source": [
    "file_list = bs.find_all('a', {'href': file_re})\n",
    "len(file_list)"
   ]
  },
  {
   "cell_type": "code",
   "execution_count": null,
   "metadata": {},
   "outputs": [
    {
     "data": {
      "text/plain": [
       "[<a href=\"efz20071213.000009\">efz20071213.000009</a>,\n",
       " <a href=\"efz20071213.001210\">efz20071213.001210</a>,\n",
       " <a href=\"efz20071213.002411\">efz20071213.002411</a>,\n",
       " <a href=\"efz20071213.003609\">efz20071213.003609</a>,\n",
       " <a href=\"efz20071213.004842\">efz20071213.004842</a>,\n",
       " <a href=\"efz20071213.010014\">efz20071213.010014</a>,\n",
       " <a href=\"efz20071213.010608\">efz20071213.010608</a>,\n",
       " <a href=\"efz20071213.011346\">efz20071213.011346</a>,\n",
       " <a href=\"efz20071213.011937\">efz20071213.011937</a>,\n",
       " <a href=\"efz20071213.012557\">efz20071213.012557</a>]"
      ]
     },
     "execution_count": null,
     "metadata": {},
     "output_type": "execute_result"
    }
   ],
   "source": [
    "file_list[:10]"
   ]
  },
  {
   "cell_type": "code",
   "execution_count": null,
   "metadata": {},
   "outputs": [
    {
     "data": {
      "text/plain": [
       "<a href=\"efz20071213.000009\">efz20071213.000009</a>"
      ]
     },
     "execution_count": null,
     "metadata": {},
     "output_type": "execute_result"
    }
   ],
   "source": [
    "f = file_list[0]\n",
    "f"
   ]
  },
  {
   "cell_type": "code",
   "execution_count": null,
   "metadata": {},
   "outputs": [
    {
     "data": {
      "text/plain": [
       "'20071213.000009'"
      ]
     },
     "execution_count": null,
     "metadata": {},
     "output_type": "execute_result"
    }
   ],
   "source": [
    "f.get('href')[3:]"
   ]
  },
  {
   "cell_type": "code",
   "execution_count": null,
   "metadata": {},
   "outputs": [
    {
     "data": {
      "text/plain": [
       "datetime.datetime(2007, 12, 13, 0, 0, 9)"
      ]
     },
     "execution_count": null,
     "metadata": {},
     "output_type": "execute_result"
    }
   ],
   "source": [
    "obstime = datetime.strptime(f.get('href')[3:], \"%Y%m%d.%H%M%S\")\n",
    "obstime"
   ]
  },
  {
   "cell_type": "code",
   "execution_count": null,
   "metadata": {},
   "outputs": [
    {
     "name": "stdout",
     "output_type": "stream",
     "text": [
      "0 <a href=\"efz20071213.000009\">efz20071213.000009</a>\n",
      "1 <a href=\"efz20071213.001210\">efz20071213.001210</a>\n",
      "2 <a href=\"efz20071213.002411\">efz20071213.002411</a>\n",
      "3 <a href=\"efz20071213.003609\">efz20071213.003609</a>\n",
      "4 <a href=\"efz20071213.004842\">efz20071213.004842</a>\n",
      "5 <a href=\"efz20071213.010014\">efz20071213.010014</a>\n"
     ]
    }
   ],
   "source": [
    "for i, f in enumerate(file_list):\n",
    "    obstime = datetime.strptime(f.get('href')[3:], \"%Y%m%d.%H%M%S\")\n",
    "    print(i, f)\n",
    "    if obstime.hour != d.hour:\n",
    "        break"
   ]
  },
  {
   "cell_type": "code",
   "execution_count": null,
   "metadata": {},
   "outputs": [
    {
     "name": "stdout",
     "output_type": "stream",
     "text": [
      "0 <a href=\"efz20071213.000009\">efz20071213.000009</a>\n"
     ]
    }
   ],
   "source": [
    "for i, f in enumerate(file_list):\n",
    "    obstime = datetime.strptime(f.get('href')[3:], \"%Y%m%d.%H%M%S\")\n",
    "    if obstime.hour == d.hour:\n",
    "        print(i, f)\n",
    "        break"
   ]
  },
  {
   "cell_type": "code",
   "execution_count": null,
   "metadata": {},
   "outputs": [],
   "source": [
    "def get_idx(file_list, date):\n",
    "    # find the first index of the file that has the same hour as the date\n",
    "    for i, f in enumerate(file_list):\n",
    "        obstime = datetime.strptime(f.get('href')[3:], \"%Y%m%d.%H%M%S\")\n",
    "        if obstime.hour == date.hour:\n",
    "            return i"
   ]
  },
  {
   "cell_type": "code",
   "execution_count": null,
   "metadata": {},
   "outputs": [
    {
     "data": {
      "text/plain": [
       "<a href=\"efz20071213.000009\">efz20071213.000009</a>"
      ]
     },
     "execution_count": null,
     "metadata": {},
     "output_type": "execute_result"
    }
   ],
   "source": [
    "i = get_idx(file_list, d)\n",
    "file_list[i]"
   ]
  },
  {
   "cell_type": "code",
   "execution_count": null,
   "metadata": {},
   "outputs": [
    {
     "name": "stdout",
     "output_type": "stream",
     "text": [
      "2007-12-13 12:00:00\n"
     ]
    },
    {
     "data": {
      "text/plain": [
       "<a href=\"efz20071213.120009\">efz20071213.120009</a>"
      ]
     },
     "execution_count": null,
     "metadata": {},
     "output_type": "execute_result"
    }
   ],
   "source": [
    "dd = date_list[1]\n",
    "print(dd)\n",
    "i = get_idx(file_list, dd)\n",
    "file_list[i]"
   ]
  },
  {
   "cell_type": "code",
   "execution_count": null,
   "metadata": {},
   "outputs": [
    {
     "data": {
      "text/plain": [
       "'https://umbra.nascom.nasa.gov/pub/eit/lz/2007/12/efz20071213.000009'"
      ]
     },
     "execution_count": null,
     "metadata": {},
     "output_type": "execute_result"
    }
   ],
   "source": [
    "url = soho_url + f.get('href')\n",
    "url"
   ]
  },
  {
   "cell_type": "code",
   "execution_count": null,
   "metadata": {},
   "outputs": [],
   "source": [
    "from astropy.io import fits"
   ]
  },
  {
   "cell_type": "code",
   "execution_count": null,
   "metadata": {},
   "outputs": [
    {
     "data": {
      "text/plain": [
       "SIMPLE  =                    T / Written by IDL:  15-Mar-2016 02:52:44.00       \n",
       "BITPIX  =                   16 / Short integer (2 bytes/word)                   \n",
       "NAXIS   =                    2 /                                                \n",
       "NAXIS1  =                 1024 / Number of columns                              \n",
       "NAXIS2  =                 1024 / Number of rows                                 \n",
       "                                                                                \n",
       "DATE    = '2007-12-13'         / Date of file creation                          \n",
       "TIME-OBS= '00:00:09'           /                                                \n",
       "DATE-OBS= '2007-12-13T00:00:09.647' / UTC at spacecraft                         \n",
       "                                                                                \n",
       "ORIGIN  = 'Rocket Science'     / Rocket Science = NASA GSFC                     \n",
       "DATASRC = 'LZ file           ' /                                                \n",
       "TELESCOP= 'SOHO'               /                                                \n",
       "INSTRUME= 'EIT'                /                                                \n",
       "OBJECT  = 'full FOV'           /                                                \n",
       "                                                                                \n",
       "BSCALE  =                   1. /                                                \n",
       "BZERO   =                   0. /                                                \n",
       "BUNIT   = 'counts / pixel    ' /                                                \n",
       "                                                                                \n",
       "WAVELNTH=                  195 / 171 = Fe IX/X, 195 = Fe XII,                   \n",
       "                               / 284 = Fe XV, 304 = He II                       \n",
       "FILTER  = 'Al +1             ' /                                                \n",
       "                                                                                \n",
       "DATE_OBS= '2007-12-13T00:00:09.647Z' /                                          \n",
       "SCI_OBJ = 'CME WATCH 195     ' /                                                \n",
       "OBS_PROG= '195_10S_AL_1.000  ' /                                                \n",
       "CMP_NO  =                    1 / Unique campaign instance (1 = synoptic)        \n",
       "EXPTIME =               12.593 / s (total commanded + shutter close)            \n",
       "EXPMODE = 'backside          ' /                                                \n",
       "FILENAME= 'efz20071213.000009' /                                                \n",
       "                                                                                \n",
       "CFTEMP  =                 0.00 / CCD cold finger temperature (C)                \n",
       "CCDTEMP =               -99.82 / CCD temperature (DN/100)                       \n",
       "                                                                                \n",
       "CTYPE1  = 'Solar-X '           /                                                \n",
       "CTYPE2  = 'Solar-Y '           /                                                \n",
       "CRPIX1  =               508.77 / Sun center x, EIT pixels                       \n",
       "CRPIX2  =               519.61 / Sun center y, EIT pixels                       \n",
       "CRVAL1  =                 0.00 /                                                \n",
       "CRVAL2  =                 0.00 /                                                \n",
       "CDELT1  =                 2.63 / Pixel scale x (arc sec, fixed)                 \n",
       "CDELT2  =                 2.63 / Pixel scale y (arc sec, fixed)                 \n",
       "SOLAR_R =               373.96 / Solar photospheric radius, EIT pixels          \n",
       "SOLAR_B0=                -0.59 / Degrees                                        \n",
       "                                                                                \n",
       "SC_X0   =                 0.00 / s/c yaw (arc sec)                              \n",
       "SC_Y0   =                 0.00 / s/c pitch (arc sec; -109.14 after 1996/04/16)  \n",
       "SC_ROLL =               180.00 / s/c roll (deg., Solar north + CCW from nominal)\n",
       "HEC_X   =          24608060.00 / s/c heliocentric ecliptic x (km)               \n",
       "HEC_Y   =         143933936.00 / s/c heliocentric ecliptic y (km)               \n",
       "HEC_Z   =             68141.71 / s/c heliocentric ecliptic z (km)               \n",
       "CAR_ROT =              2064.00 / Carrington rotation at earth                   \n",
       "                                                                                \n",
       "COMMENT   CORRECTED DATE_OBS = '2007-12-12T23:57:26.971Z'                       \n",
       "COMMENT   COMMANDED EXPOSURE TIME =   10.000 s                                  \n",
       "COMMENT   SHUTTER CLOSE TIME =    2.593 s                                       \n",
       "COMMENT   LINE_SYNC = 'no'                                                      \n",
       "COMMENT   CAMERA_ERR = 'no'                                                     \n",
       "COMMENT   IMAGE_OF_SEQ =                    0                                   \n",
       "COMMENT   READOUT PORT = 'B'                                                    \n",
       "COMMENT   NUM_LEB_PROC =                    3                                   \n",
       "COMMENT   LEB_PROC = 26 (no ROI)                                                \n",
       "COMMENT   LEB_PROC = 27 (no occ mask)                                           \n",
       "COMMENT   LEB_PROC = 12 (Rice)                                                  \n",
       "COMMENT   BLOCKS_HORZ =   32                                                    \n",
       "COMMENT   BLOCKS_VERT =   32                                                    \n",
       "COMMENT   P1_X =           1                                                    \n",
       "COMMENT   P2_X =        1024                                                    \n",
       "COMMENT   P1_Y =          20                                                    \n",
       "COMMENT   P2_Y =        1043                                                    \n",
       "COMMENT   N_MISSING_BLOCKS =    0                                               \n",
       "                                                                                \n",
       "                                                                                \n",
       "HISTORY   Version 4.0, 2001 December 10                                         \n",
       "                                                                                "
      ]
     },
     "execution_count": null,
     "metadata": {},
     "output_type": "execute_result"
    }
   ],
   "source": [
    "header = fits.getheader(url)\n",
    "header"
   ]
  },
  {
   "cell_type": "code",
   "execution_count": null,
   "metadata": {},
   "outputs": [
    {
     "data": {
      "text/plain": [
       "'2007-12-13T00:00:09.647'"
      ]
     },
     "execution_count": null,
     "metadata": {},
     "output_type": "execute_result"
    }
   ],
   "source": [
    "header['DATE-OBS']"
   ]
  },
  {
   "cell_type": "code",
   "execution_count": null,
   "metadata": {},
   "outputs": [
    {
     "data": {
      "text/plain": [
       "True"
      ]
     },
     "execution_count": null,
     "metadata": {},
     "output_type": "execute_result"
    }
   ],
   "source": [
    "header['NAXIS1'] == 1024"
   ]
  },
  {
   "cell_type": "code",
   "execution_count": null,
   "metadata": {},
   "outputs": [
    {
     "data": {
      "text/plain": [
       "True"
      ]
     },
     "execution_count": null,
     "metadata": {},
     "output_type": "execute_result"
    }
   ],
   "source": [
    "header['NAXIS2'] == 1024"
   ]
  },
  {
   "cell_type": "code",
   "execution_count": null,
   "metadata": {},
   "outputs": [
    {
     "data": {
      "text/plain": [
       "True"
      ]
     },
     "execution_count": null,
     "metadata": {},
     "output_type": "execute_result"
    }
   ],
   "source": [
    "'N_MISSING_BLOCKS =    0' in header['COMMENT'][-1]"
   ]
  },
  {
   "cell_type": "code",
   "execution_count": null,
   "metadata": {},
   "outputs": [
    {
     "data": {
      "text/plain": [
       "195"
      ]
     },
     "execution_count": null,
     "metadata": {},
     "output_type": "execute_result"
    }
   ],
   "source": [
    "header['WAVELNTH']"
   ]
  },
  {
   "cell_type": "code",
   "execution_count": null,
   "metadata": {},
   "outputs": [
    {
     "name": "stdout",
     "output_type": "stream",
     "text": [
      "Invalid file: efz20071213.121209\n"
     ]
    }
   ],
   "source": [
    "# Create url list until all possible wavelengths are found.\n",
    "data = []\n",
    "possible_values = {171, 195, 284, 304}\n",
    "seen_values = set()\n",
    "\n",
    "idx = get_idx(file_list, dd)\n",
    "for f in file_list[idx:]:\n",
    "    url = soho_url + f.get('href')\n",
    "    header = fits.getheader(url)\n",
    "    if header['NAXIS1'] != 1024 or header['NAXIS2'] != 1024 or \\\n",
    "        'N_MISSING_BLOCKS =    0' not in header['COMMENT'][-1]:\n",
    "        print(\"Invalid file:\", f.get('href'))\n",
    "        continue\n",
    "    \n",
    "    info = {}\n",
    "    info['obstime'] = datetime.strptime(f.get('href')[3:], \"%Y%m%d.%H%M%S\")\n",
    "    info['wavelength'] = header['WAVELNTH']\n",
    "    info['url'] = url\n",
    "    data.append(info)\n",
    "\n",
    "    seen_values.add(int(header['WAVELNTH']))\n",
    "    if seen_values == possible_values:\n",
    "        break"
   ]
  },
  {
   "cell_type": "code",
   "execution_count": null,
   "metadata": {},
   "outputs": [
    {
     "data": {
      "text/plain": [
       "8"
      ]
     },
     "execution_count": null,
     "metadata": {},
     "output_type": "execute_result"
    }
   ],
   "source": [
    "len(data)"
   ]
  },
  {
   "cell_type": "code",
   "execution_count": null,
   "metadata": {},
   "outputs": [],
   "source": [
    "import pandas as pd"
   ]
  },
  {
   "cell_type": "code",
   "execution_count": null,
   "metadata": {},
   "outputs": [
    {
     "data": {
      "text/html": [
       "<div>\n",
       "<style scoped>\n",
       "    .dataframe tbody tr th:only-of-type {\n",
       "        vertical-align: middle;\n",
       "    }\n",
       "\n",
       "    .dataframe tbody tr th {\n",
       "        vertical-align: top;\n",
       "    }\n",
       "\n",
       "    .dataframe thead th {\n",
       "        text-align: right;\n",
       "    }\n",
       "</style>\n",
       "<table border=\"1\" class=\"dataframe\">\n",
       "  <thead>\n",
       "    <tr style=\"text-align: right;\">\n",
       "      <th></th>\n",
       "      <th>obstime</th>\n",
       "      <th>wavelength</th>\n",
       "      <th>url</th>\n",
       "    </tr>\n",
       "  </thead>\n",
       "  <tbody>\n",
       "    <tr>\n",
       "      <th>0</th>\n",
       "      <td>2007-12-13 12:00:09</td>\n",
       "      <td>195</td>\n",
       "      <td>https://umbra.nascom.nasa.gov/pub/eit/lz/2007/...</td>\n",
       "    </tr>\n",
       "    <tr>\n",
       "      <th>1</th>\n",
       "      <td>2007-12-13 12:24:09</td>\n",
       "      <td>195</td>\n",
       "      <td>https://umbra.nascom.nasa.gov/pub/eit/lz/2007/...</td>\n",
       "    </tr>\n",
       "    <tr>\n",
       "      <th>2</th>\n",
       "      <td>2007-12-13 12:36:09</td>\n",
       "      <td>195</td>\n",
       "      <td>https://umbra.nascom.nasa.gov/pub/eit/lz/2007/...</td>\n",
       "    </tr>\n",
       "    <tr>\n",
       "      <th>3</th>\n",
       "      <td>2007-12-13 12:48:09</td>\n",
       "      <td>195</td>\n",
       "      <td>https://umbra.nascom.nasa.gov/pub/eit/lz/2007/...</td>\n",
       "    </tr>\n",
       "    <tr>\n",
       "      <th>4</th>\n",
       "      <td>2007-12-13 13:00:13</td>\n",
       "      <td>171</td>\n",
       "      <td>https://umbra.nascom.nasa.gov/pub/eit/lz/2007/...</td>\n",
       "    </tr>\n",
       "    <tr>\n",
       "      <th>5</th>\n",
       "      <td>2007-12-13 13:06:09</td>\n",
       "      <td>284</td>\n",
       "      <td>https://umbra.nascom.nasa.gov/pub/eit/lz/2007/...</td>\n",
       "    </tr>\n",
       "    <tr>\n",
       "      <th>6</th>\n",
       "      <td>2007-12-13 13:13:47</td>\n",
       "      <td>195</td>\n",
       "      <td>https://umbra.nascom.nasa.gov/pub/eit/lz/2007/...</td>\n",
       "    </tr>\n",
       "    <tr>\n",
       "      <th>7</th>\n",
       "      <td>2007-12-13 13:19:37</td>\n",
       "      <td>304</td>\n",
       "      <td>https://umbra.nascom.nasa.gov/pub/eit/lz/2007/...</td>\n",
       "    </tr>\n",
       "  </tbody>\n",
       "</table>\n",
       "</div>"
      ],
      "text/plain": [
       "              obstime  wavelength  \\\n",
       "0 2007-12-13 12:00:09         195   \n",
       "1 2007-12-13 12:24:09         195   \n",
       "2 2007-12-13 12:36:09         195   \n",
       "3 2007-12-13 12:48:09         195   \n",
       "4 2007-12-13 13:00:13         171   \n",
       "5 2007-12-13 13:06:09         284   \n",
       "6 2007-12-13 13:13:47         195   \n",
       "7 2007-12-13 13:19:37         304   \n",
       "\n",
       "                                                 url  \n",
       "0  https://umbra.nascom.nasa.gov/pub/eit/lz/2007/...  \n",
       "1  https://umbra.nascom.nasa.gov/pub/eit/lz/2007/...  \n",
       "2  https://umbra.nascom.nasa.gov/pub/eit/lz/2007/...  \n",
       "3  https://umbra.nascom.nasa.gov/pub/eit/lz/2007/...  \n",
       "4  https://umbra.nascom.nasa.gov/pub/eit/lz/2007/...  \n",
       "5  https://umbra.nascom.nasa.gov/pub/eit/lz/2007/...  \n",
       "6  https://umbra.nascom.nasa.gov/pub/eit/lz/2007/...  \n",
       "7  https://umbra.nascom.nasa.gov/pub/eit/lz/2007/...  "
      ]
     },
     "execution_count": null,
     "metadata": {},
     "output_type": "execute_result"
    }
   ],
   "source": [
    "df = pd.DataFrame(data)\n",
    "df"
   ]
  },
  {
   "cell_type": "code",
   "execution_count": null,
   "metadata": {},
   "outputs": [],
   "source": [
    "df_171 = df[df['wavelength'] == 171].sort_values(by='obstime').reset_index(drop=True)\n",
    "df_195 = df[df['wavelength'] == 195].sort_values(by='obstime').reset_index(drop=True)\n",
    "df_284 = df[df['wavelength'] == 284].sort_values(by='obstime').reset_index(drop=True)\n",
    "df_304 = df[df['wavelength'] == 304].sort_values(by='obstime').reset_index(drop=True)"
   ]
  },
  {
   "cell_type": "code",
   "execution_count": null,
   "metadata": {},
   "outputs": [
    {
     "data": {
      "text/html": [
       "<div>\n",
       "<style scoped>\n",
       "    .dataframe tbody tr th:only-of-type {\n",
       "        vertical-align: middle;\n",
       "    }\n",
       "\n",
       "    .dataframe tbody tr th {\n",
       "        vertical-align: top;\n",
       "    }\n",
       "\n",
       "    .dataframe thead th {\n",
       "        text-align: right;\n",
       "    }\n",
       "</style>\n",
       "<table border=\"1\" class=\"dataframe\">\n",
       "  <thead>\n",
       "    <tr style=\"text-align: right;\">\n",
       "      <th></th>\n",
       "      <th>obstime</th>\n",
       "      <th>wavelength</th>\n",
       "      <th>url</th>\n",
       "    </tr>\n",
       "  </thead>\n",
       "  <tbody>\n",
       "    <tr>\n",
       "      <th>0</th>\n",
       "      <td>2007-12-13 13:00:13</td>\n",
       "      <td>171</td>\n",
       "      <td>https://umbra.nascom.nasa.gov/pub/eit/lz/2007/...</td>\n",
       "    </tr>\n",
       "  </tbody>\n",
       "</table>\n",
       "</div>"
      ],
      "text/plain": [
       "              obstime  wavelength  \\\n",
       "0 2007-12-13 13:00:13         171   \n",
       "\n",
       "                                                 url  \n",
       "0  https://umbra.nascom.nasa.gov/pub/eit/lz/2007/...  "
      ]
     },
     "execution_count": null,
     "metadata": {},
     "output_type": "execute_result"
    }
   ],
   "source": [
    "df_171"
   ]
  },
  {
   "cell_type": "code",
   "execution_count": null,
   "metadata": {},
   "outputs": [
    {
     "data": {
      "text/html": [
       "<div>\n",
       "<style scoped>\n",
       "    .dataframe tbody tr th:only-of-type {\n",
       "        vertical-align: middle;\n",
       "    }\n",
       "\n",
       "    .dataframe tbody tr th {\n",
       "        vertical-align: top;\n",
       "    }\n",
       "\n",
       "    .dataframe thead th {\n",
       "        text-align: right;\n",
       "    }\n",
       "</style>\n",
       "<table border=\"1\" class=\"dataframe\">\n",
       "  <thead>\n",
       "    <tr style=\"text-align: right;\">\n",
       "      <th></th>\n",
       "      <th>obstime</th>\n",
       "      <th>wavelength</th>\n",
       "      <th>url</th>\n",
       "    </tr>\n",
       "  </thead>\n",
       "  <tbody>\n",
       "    <tr>\n",
       "      <th>0</th>\n",
       "      <td>2007-12-13 12:00:09</td>\n",
       "      <td>195</td>\n",
       "      <td>https://umbra.nascom.nasa.gov/pub/eit/lz/2007/...</td>\n",
       "    </tr>\n",
       "    <tr>\n",
       "      <th>1</th>\n",
       "      <td>2007-12-13 12:24:09</td>\n",
       "      <td>195</td>\n",
       "      <td>https://umbra.nascom.nasa.gov/pub/eit/lz/2007/...</td>\n",
       "    </tr>\n",
       "    <tr>\n",
       "      <th>2</th>\n",
       "      <td>2007-12-13 12:36:09</td>\n",
       "      <td>195</td>\n",
       "      <td>https://umbra.nascom.nasa.gov/pub/eit/lz/2007/...</td>\n",
       "    </tr>\n",
       "    <tr>\n",
       "      <th>3</th>\n",
       "      <td>2007-12-13 12:48:09</td>\n",
       "      <td>195</td>\n",
       "      <td>https://umbra.nascom.nasa.gov/pub/eit/lz/2007/...</td>\n",
       "    </tr>\n",
       "    <tr>\n",
       "      <th>4</th>\n",
       "      <td>2007-12-13 13:13:47</td>\n",
       "      <td>195</td>\n",
       "      <td>https://umbra.nascom.nasa.gov/pub/eit/lz/2007/...</td>\n",
       "    </tr>\n",
       "  </tbody>\n",
       "</table>\n",
       "</div>"
      ],
      "text/plain": [
       "              obstime  wavelength  \\\n",
       "0 2007-12-13 12:00:09         195   \n",
       "1 2007-12-13 12:24:09         195   \n",
       "2 2007-12-13 12:36:09         195   \n",
       "3 2007-12-13 12:48:09         195   \n",
       "4 2007-12-13 13:13:47         195   \n",
       "\n",
       "                                                 url  \n",
       "0  https://umbra.nascom.nasa.gov/pub/eit/lz/2007/...  \n",
       "1  https://umbra.nascom.nasa.gov/pub/eit/lz/2007/...  \n",
       "2  https://umbra.nascom.nasa.gov/pub/eit/lz/2007/...  \n",
       "3  https://umbra.nascom.nasa.gov/pub/eit/lz/2007/...  \n",
       "4  https://umbra.nascom.nasa.gov/pub/eit/lz/2007/...  "
      ]
     },
     "execution_count": null,
     "metadata": {},
     "output_type": "execute_result"
    }
   ],
   "source": [
    "df_195"
   ]
  },
  {
   "cell_type": "code",
   "execution_count": null,
   "metadata": {},
   "outputs": [
    {
     "data": {
      "text/html": [
       "<div>\n",
       "<style scoped>\n",
       "    .dataframe tbody tr th:only-of-type {\n",
       "        vertical-align: middle;\n",
       "    }\n",
       "\n",
       "    .dataframe tbody tr th {\n",
       "        vertical-align: top;\n",
       "    }\n",
       "\n",
       "    .dataframe thead th {\n",
       "        text-align: right;\n",
       "    }\n",
       "</style>\n",
       "<table border=\"1\" class=\"dataframe\">\n",
       "  <thead>\n",
       "    <tr style=\"text-align: right;\">\n",
       "      <th></th>\n",
       "      <th>obstime</th>\n",
       "      <th>wavelength</th>\n",
       "      <th>url</th>\n",
       "    </tr>\n",
       "  </thead>\n",
       "  <tbody>\n",
       "    <tr>\n",
       "      <th>0</th>\n",
       "      <td>2007-12-13 13:06:09</td>\n",
       "      <td>284</td>\n",
       "      <td>https://umbra.nascom.nasa.gov/pub/eit/lz/2007/...</td>\n",
       "    </tr>\n",
       "  </tbody>\n",
       "</table>\n",
       "</div>"
      ],
      "text/plain": [
       "              obstime  wavelength  \\\n",
       "0 2007-12-13 13:06:09         284   \n",
       "\n",
       "                                                 url  \n",
       "0  https://umbra.nascom.nasa.gov/pub/eit/lz/2007/...  "
      ]
     },
     "execution_count": null,
     "metadata": {},
     "output_type": "execute_result"
    }
   ],
   "source": [
    "df_284"
   ]
  },
  {
   "cell_type": "code",
   "execution_count": null,
   "metadata": {},
   "outputs": [
    {
     "data": {
      "text/html": [
       "<div>\n",
       "<style scoped>\n",
       "    .dataframe tbody tr th:only-of-type {\n",
       "        vertical-align: middle;\n",
       "    }\n",
       "\n",
       "    .dataframe tbody tr th {\n",
       "        vertical-align: top;\n",
       "    }\n",
       "\n",
       "    .dataframe thead th {\n",
       "        text-align: right;\n",
       "    }\n",
       "</style>\n",
       "<table border=\"1\" class=\"dataframe\">\n",
       "  <thead>\n",
       "    <tr style=\"text-align: right;\">\n",
       "      <th></th>\n",
       "      <th>obstime</th>\n",
       "      <th>wavelength</th>\n",
       "      <th>url</th>\n",
       "    </tr>\n",
       "  </thead>\n",
       "  <tbody>\n",
       "    <tr>\n",
       "      <th>0</th>\n",
       "      <td>2007-12-13 13:19:37</td>\n",
       "      <td>304</td>\n",
       "      <td>https://umbra.nascom.nasa.gov/pub/eit/lz/2007/...</td>\n",
       "    </tr>\n",
       "  </tbody>\n",
       "</table>\n",
       "</div>"
      ],
      "text/plain": [
       "              obstime  wavelength  \\\n",
       "0 2007-12-13 13:19:37         304   \n",
       "\n",
       "                                                 url  \n",
       "0  https://umbra.nascom.nasa.gov/pub/eit/lz/2007/...  "
      ]
     },
     "execution_count": null,
     "metadata": {},
     "output_type": "execute_result"
    }
   ],
   "source": [
    "df_304"
   ]
  },
  {
   "cell_type": "code",
   "execution_count": null,
   "metadata": {},
   "outputs": [
    {
     "data": {
      "text/plain": [
       "Timestamp('2007-12-13 13:00:13')"
      ]
     },
     "execution_count": null,
     "metadata": {},
     "output_type": "execute_result"
    }
   ],
   "source": [
    "sample = df_171.iloc[0]\n",
    "sample.obstime"
   ]
  },
  {
   "cell_type": "code",
   "execution_count": null,
   "metadata": {},
   "outputs": [],
   "source": [
    "def round_hour(t):\n",
    "    # Rounds to nearest hour by adding a timedelta hour if minute >= 30\n",
    "    return (t.replace(second=0, microsecond=0, minute=0, hour=t.hour)\n",
    "            + timedelta(hours=t.minute // 30))"
   ]
  },
  {
   "cell_type": "code",
   "execution_count": null,
   "metadata": {},
   "outputs": [
    {
     "data": {
      "text/plain": [
       "Timestamp('2007-12-13 13:00:00')"
      ]
     },
     "execution_count": null,
     "metadata": {},
     "output_type": "execute_result"
    }
   ],
   "source": [
    "round_hour(sample.obstime)"
   ]
  },
  {
   "cell_type": "code",
   "execution_count": null,
   "metadata": {},
   "outputs": [
    {
     "data": {
      "text/plain": [
       "PosixPath('data/soho/eit/171')"
      ]
     },
     "execution_count": null,
     "metadata": {},
     "output_type": "execute_result"
    }
   ],
   "source": [
    "Path(ds_path) / str(sample.wavelength)"
   ]
  },
  {
   "cell_type": "markdown",
   "metadata": {},
   "source": [
    "### L1"
   ]
  },
  {
   "cell_type": "code",
   "execution_count": null,
   "metadata": {},
   "outputs": [],
   "source": [
    "root = \"https://umbra.nascom.nasa.gov/pub/eit/l1/\""
   ]
  },
  {
   "cell_type": "code",
   "execution_count": null,
   "metadata": {},
   "outputs": [
    {
     "data": {
      "text/plain": [
       "'2007/12/13/'"
      ]
     },
     "execution_count": null,
     "metadata": {},
     "output_type": "execute_result"
    }
   ],
   "source": [
    "date = datetime.strftime(d, \"%Y/%m/%d/\")\n",
    "date"
   ]
  },
  {
   "cell_type": "code",
   "execution_count": null,
   "metadata": {},
   "outputs": [
    {
     "data": {
      "text/plain": [
       "'https://umbra.nascom.nasa.gov/pub/eit/l1/2007/12/13/'"
      ]
     },
     "execution_count": null,
     "metadata": {},
     "output_type": "execute_result"
    }
   ],
   "source": [
    "soho_url = root + date\n",
    "soho_url"
   ]
  },
  {
   "cell_type": "code",
   "execution_count": null,
   "metadata": {},
   "outputs": [],
   "source": [
    "bs = get_bs(soho_url)"
   ]
  },
  {
   "cell_type": "code",
   "execution_count": null,
   "metadata": {},
   "outputs": [],
   "source": [
    "link_list = bs.find_all('a')"
   ]
  },
  {
   "cell_type": "code",
   "execution_count": null,
   "metadata": {},
   "outputs": [
    {
     "data": {
      "text/plain": [
       "125"
      ]
     },
     "execution_count": null,
     "metadata": {},
     "output_type": "execute_result"
    }
   ],
   "source": [
    "len(link_list)"
   ]
  },
  {
   "cell_type": "code",
   "execution_count": null,
   "metadata": {},
   "outputs": [
    {
     "data": {
      "text/plain": [
       "[<a href=\"?C=N;O=D\">Name</a>,\n",
       " <a href=\"?C=M;O=A\">Last modified</a>,\n",
       " <a href=\"?C=S;O=A\">Size</a>,\n",
       " <a href=\"?C=D;O=A\">Description</a>,\n",
       " <a href=\"/pub/eit/l1/2007/12/\">Parent Directory</a>,\n",
       " <a href=\"SOHO_EIT_171_20071213T010014_L1.fits\">SOHO_EIT_171_20071213T010014_L1.fits</a>,\n",
       " <a href=\"SOHO_EIT_171_20071213T070013_L1.fits\">SOHO_EIT_171_20071213T070013_L1.fits</a>,\n",
       " <a href=\"SOHO_EIT_171_20071213T130013_L1.fits\">SOHO_EIT_171_20071213T130013_L1.fits</a>,\n",
       " <a href=\"SOHO_EIT_171_20071213T190013_L1.fits\">SOHO_EIT_171_20071213T190013_L1.fits</a>,\n",
       " <a href=\"SOHO_EIT_195_20071213T000009_L1.fits\">SOHO_EIT_195_20071213T000009_L1.fits</a>]"
      ]
     },
     "execution_count": null,
     "metadata": {},
     "output_type": "execute_result"
    }
   ],
   "source": [
    "link_list[:10]"
   ]
  },
  {
   "cell_type": "code",
   "execution_count": null,
   "metadata": {},
   "outputs": [
    {
     "data": {
      "text/plain": [
       "re.compile(r'SOHO_EIT.*20071213.*.fits', re.UNICODE)"
      ]
     },
     "execution_count": null,
     "metadata": {},
     "output_type": "execute_result"
    }
   ],
   "source": [
    "import re\n",
    "file_re = re.compile(\"SOHO_EIT\"+\".*\"+datetime.strftime(d, \"%Y%m%d\") + \".*.fits\")\n",
    "file_re"
   ]
  },
  {
   "cell_type": "code",
   "execution_count": null,
   "metadata": {},
   "outputs": [
    {
     "data": {
      "text/plain": [
       "120"
      ]
     },
     "execution_count": null,
     "metadata": {},
     "output_type": "execute_result"
    }
   ],
   "source": [
    "file_list = bs.find_all('a', {'href': file_re})\n",
    "len(file_list)"
   ]
  },
  {
   "cell_type": "code",
   "execution_count": null,
   "metadata": {},
   "outputs": [
    {
     "data": {
      "text/plain": [
       "[<a href=\"SOHO_EIT_171_20071213T010014_L1.fits\">SOHO_EIT_171_20071213T010014_L1.fits</a>,\n",
       " <a href=\"SOHO_EIT_171_20071213T070013_L1.fits\">SOHO_EIT_171_20071213T070013_L1.fits</a>,\n",
       " <a href=\"SOHO_EIT_171_20071213T130013_L1.fits\">SOHO_EIT_171_20071213T130013_L1.fits</a>,\n",
       " <a href=\"SOHO_EIT_171_20071213T190013_L1.fits\">SOHO_EIT_171_20071213T190013_L1.fits</a>,\n",
       " <a href=\"SOHO_EIT_195_20071213T000009_L1.fits\">SOHO_EIT_195_20071213T000009_L1.fits</a>,\n",
       " <a href=\"SOHO_EIT_195_20071213T001210_L1.fits\">SOHO_EIT_195_20071213T001210_L1.fits</a>,\n",
       " <a href=\"SOHO_EIT_195_20071213T002411_L1.fits\">SOHO_EIT_195_20071213T002411_L1.fits</a>,\n",
       " <a href=\"SOHO_EIT_195_20071213T003609_L1.fits\">SOHO_EIT_195_20071213T003609_L1.fits</a>,\n",
       " <a href=\"SOHO_EIT_195_20071213T004842_L1.fits\">SOHO_EIT_195_20071213T004842_L1.fits</a>,\n",
       " <a href=\"SOHO_EIT_195_20071213T011346_L1.fits\">SOHO_EIT_195_20071213T011346_L1.fits</a>]"
      ]
     },
     "execution_count": null,
     "metadata": {},
     "output_type": "execute_result"
    }
   ],
   "source": [
    "file_list[:10]"
   ]
  },
  {
   "cell_type": "code",
   "execution_count": null,
   "metadata": {},
   "outputs": [
    {
     "data": {
      "text/plain": [
       "<a href=\"SOHO_EIT_171_20071213T010014_L1.fits\">SOHO_EIT_171_20071213T010014_L1.fits</a>"
      ]
     },
     "execution_count": null,
     "metadata": {},
     "output_type": "execute_result"
    }
   ],
   "source": [
    "f = file_list[0]\n",
    "f"
   ]
  },
  {
   "cell_type": "code",
   "execution_count": null,
   "metadata": {},
   "outputs": [
    {
     "data": {
      "text/plain": [
       "'20071213T010014'"
      ]
     },
     "execution_count": null,
     "metadata": {},
     "output_type": "execute_result"
    }
   ],
   "source": [
    "f.get('href')[13:-8]"
   ]
  },
  {
   "cell_type": "code",
   "execution_count": null,
   "metadata": {},
   "outputs": [
    {
     "data": {
      "text/plain": [
       "datetime.datetime(2007, 12, 13, 1, 0, 14)"
      ]
     },
     "execution_count": null,
     "metadata": {},
     "output_type": "execute_result"
    }
   ],
   "source": [
    "obstime = datetime.strptime(f.get('href')[13:-8], \"%Y%m%dT%H%M%S\")\n",
    "obstime"
   ]
  },
  {
   "cell_type": "code",
   "execution_count": null,
   "metadata": {},
   "outputs": [
    {
     "data": {
      "text/plain": [
       "'171'"
      ]
     },
     "execution_count": null,
     "metadata": {},
     "output_type": "execute_result"
    }
   ],
   "source": [
    "f.get('href')[9:12]"
   ]
  },
  {
   "cell_type": "code",
   "execution_count": null,
   "metadata": {},
   "outputs": [
    {
     "data": {
      "text/plain": [
       "171"
      ]
     },
     "execution_count": null,
     "metadata": {},
     "output_type": "execute_result"
    }
   ],
   "source": [
    "wavelength = int(f.get('href')[9:12])\n",
    "wavelength"
   ]
  },
  {
   "cell_type": "code",
   "execution_count": null,
   "metadata": {},
   "outputs": [
    {
     "data": {
      "text/plain": [
       "'https://umbra.nascom.nasa.gov/pub/eit/l1/2007/12/13/SOHO_EIT_171_20071213T010014_L1.fits'"
      ]
     },
     "execution_count": null,
     "metadata": {},
     "output_type": "execute_result"
    }
   ],
   "source": [
    "url = soho_url + f.get('href')\n",
    "url"
   ]
  },
  {
   "cell_type": "code",
   "execution_count": null,
   "metadata": {},
   "outputs": [
    {
     "data": {
      "text/plain": [
       "SIMPLE  =                    T / Written by IDL:  Wed Nov 22 21:03:26 2023      \n",
       "BITPIX  =                  -32 / Real*4 (floating point)                        \n",
       "NAXIS   =                    2 / number of array dimensions                     \n",
       "NAXIS1  =                 1024 / number of columns                              \n",
       "NAXIS2  =                 1024 / number of rows                                 \n",
       "FILENAME= 'SOHO_EIT_171_20071213T010014_L1.fits' / FITS file name               \n",
       "COMMENT --------- General Description: -----------------------------------------\n",
       "DATE    = '2023-11-22T20:03:26.000' / [UTC] FITS file creation date             \n",
       "PARENT  = 'efz20071213.010014' / source file                                    \n",
       "DATE-OBS= '2007-12-13T00:56:57.345Z' / [UTC] deprecated, same as DATE-BEG       \n",
       "DATE-BEG= '2007-12-13T00:56:57.345Z' / [UTC] start time of observation from CORR\n",
       "DATE-AVG= '2007-12-13T00:57:03.641' / [UTC] average time of observation         \n",
       "TIMESYS = 'UTC     '           / system used for time keywords                  \n",
       "LEVEL   = 'L1      '           / data processing level                          \n",
       "DATASRC = 'L0 file '           /                                                \n",
       "ORIGIN  = 'Institut d''Astrophysique Spatiale' / file generation location       \n",
       "CREATOR = 'mk_archive.pro'     /                                                \n",
       "TYPE    = 'solar image'        / type of image: solar, calib                    \n",
       "COMMENT --------- Instrument and Observation Configuration: --------------------\n",
       "OBSRVTRY= 'Solar and Heliospheric Observatory (SOHO)' / satellite name          \n",
       "TELESCOP= 'Extreme-ultraviolet Imaging Telescope (EIT)' / telescope/sensor name \n",
       "XPOSURE =              12.5920 / [s] total exposure time (commanded + shutter cl\n",
       "CMDXPOS =              10.0000 / [s] commanded exposure time                    \n",
       "SHUTCLS =              2.59200 / [s] shutter close time                         \n",
       "FILTER  = 'Al +1             ' / focal filter name                              \n",
       "WAVELNTH=                  171 / [Angstrom] central wavelength of observation   \n",
       "WAVEUNIT= 'Angstrom'           / wavelength unit                                \n",
       "OBJECT  = 'full FOV'           / object of observation                          \n",
       "SCI_OBJ = 'FULL SUN 171/284/195/304 ' / scientific objective                    \n",
       "OBS_PROG= '171_5_284_90_195_10_304_30_AL_1.000 ' / observing program            \n",
       "CMP_NO  =                    1 / Unique campaign instance (1=synoptic)          \n",
       "COMMENT --------- Description of Data content: -------------------------------- \n",
       "BTYPE   = 'Flux    '           / type of data                                   \n",
       "BUNIT   = 'DN/s    '           / units of physical value, after BSCALE, BZERO   \n",
       "UCD     = 'phot.count;em.UV.10-50nm' / Unified Content Descriptor               \n",
       "COMMENT --------- Image Relative to Detector and Electronics: ----------------- \n",
       "PXBEG1  =                    1 / first readout pixel in dimension 1             \n",
       "PXEND1  =                 1024 / last readout pixel in dimension 1              \n",
       "PXBEG2  =                   20 / first readout pixel in dimension 2             \n",
       "PXEND2  =                 1043 / last readout pixel in dimension 2              \n",
       "NBIN1   =                    1 / on-board binning factor along dimension 1      \n",
       "NBIN2   =                    1 / on-board binning factor along dimension 2      \n",
       "NBIN    =                    1 / total binning factor                           \n",
       "COMMENT --------- World Coordinate System Attitude: --------------------------- \n",
       "WCSNAME = 'Helioprojective-cartesian' / name of coordinate system               \n",
       "CTYPE1  = 'HPLN-TAN'           / helioprojective longitude (Solar X)            \n",
       "CTYPE2  = 'HPLT-TAN'           / helioprojective latitude (Solar Y)             \n",
       "CUNIT1  = 'arcsec  '           / units along axis 1                             \n",
       "CUNIT2  = 'arcsec  '           / units along axis 2                             \n",
       "PC1_1   =        1.00000000000 / WCS coordinate transformation matrix           \n",
       "PC1_2   =        0.00000000000 / WCS coordinate transformation matrix           \n",
       "PC2_1   =       -0.00000000000 / WCS coordinate transformation matrix           \n",
       "PC2_2   =        1.00000000000 / WCS coordinate transformation matrix           \n",
       "CDELT1  =        2.62700000000 / [arcsec] pixel scale along axis 1              \n",
       "CDELT2  =        2.62700000000 / [arcsec] pixel scale along axis 2              \n",
       "CRVAL1  =       -3.23115869141 / [arcsec] value of reference pixel along axis 1 \n",
       "CRVAL2  =        25.2454315186 / [arcsec] value of reference pixel along axis 2 \n",
       "CRPIX1  =        512.500000000 / [pixel] reference pixel location along axis 1  \n",
       "CRPIX2  =        512.500000000 / [pixel] reference pixel location along axis 1  \n",
       "CROTA   =       -0.00000000000 / [deg] rotation angle                           \n",
       "COMMENT --------- Electronics: ------------------------------------------------ \n",
       "EXPMODE = 'backside          ' / exposure mode                                  \n",
       "LYNESYNC= 'no      '           / line synchronization                           \n",
       "CAMERERR= 'no      '           / camera error: yes, no                          \n",
       "IMAGESEQ=                    0 / image number in sequence                       \n",
       "ROUTPORT= 'B       '           / readout port                                   \n",
       "NLEBPROC=                    0 / number of LEB processing steps                 \n",
       "LEBPROC1=                   26 / no ROI                                         \n",
       "LEBPROC2=                   27 / no occ mask                                    \n",
       "LEBPROC3=                   12 / Rice                                           \n",
       "HZBLOCKS=                   32 / number of horizontal blocks                    \n",
       "VTBLOCKS=                   32 / number of vertical blocks                      \n",
       "MSBLOCKS=                    0 / number of missing blocks                       \n",
       "COMMENT --------- Temperature: ------------------------------------------------ \n",
       "CFTEMP  =              0.00000 / [degree C] CCD cold finger temperature         \n",
       "CCDTEMP =             -99.8200 / [DN/100] CCD temperature                       \n",
       "COMMENT --------- Solar Ephemeris: -------------------------------------------- \n",
       "SOLAR_B0=            -0.590000 / [deg] s/c tilt of solar North pole             \n",
       "RSUN_ARC=        982.713066717 / [arcsec] apparent photospheric solar radius    \n",
       "RSUN_OBS=        982.713066717 / [arcsec] apparent photospheric solar radius    \n",
       "RSUN_REF=            695699968 / [m] assumed physical solar radius              \n",
       "CAR_ROT =        2064.00000000 / Carrington rotation at Earth                   \n",
       "DSUN_OBS=        146021598996. / [m], s/c distance from Sun                     \n",
       "SC_X0   =              0.00000 / [arcsec] s/c yaw                               \n",
       "SC_Y0   =              0.00000 / [arcsec] s/c pitch (-109.14 after 1996/04/16)  \n",
       "SC_ROLL =              0.00000 / [degrees] solar north + CCW from nominal       \n",
       "HAEX_OBS=        24502232000.0 / [m] s/c Heliocentric Aries Ecliptic X          \n",
       "HAEY_OBS=        143951184000. / [m] s/c Heliocentric Aries Ecliptic Y          \n",
       "HAEZ_OBS=        68009380.0000 / [m] s/c Heliocentric Aries Ecliptic Z          \n",
       "COMMENT --------- Parameters Closing Metadata: -------------------------------- \n",
       "HISTORY Version 4.0, 2001 December 10                                           \n",
       "HISTORY Replaced missing blocks with EIT_DARK                                   \n",
       "HISTORY Subtracted dark current, EIT_DARK                                       \n",
       "HISTORY Degridded image with EIT_DEGRID                                         \n",
       "HISTORY Flat fielded image with EIT_FLAT                                        \n",
       "HISTORY Exposure normalized (per sec)                                           \n",
       "HISTORY Flux normalized to CLEAR Filter                                         \n",
       "HISTORY Flux normalized for time response changes                               \n",
       "DATASUM = '161190558'          / data unit checksum created 2023-11-22T20:03:27 \n",
       "CHECKSUM= 'Q6JkR3HiQ3HiQ3Hi'   / HDU checksum created 2023-11-22T20:03:27       "
      ]
     },
     "execution_count": null,
     "metadata": {},
     "output_type": "execute_result"
    }
   ],
   "source": [
    "header = fits.getheader(url)\n",
    "header"
   ]
  },
  {
   "cell_type": "code",
   "execution_count": null,
   "metadata": {},
   "outputs": [
    {
     "data": {
      "text/plain": [
       "'2007-12-13T00:56:57.345Z'"
      ]
     },
     "execution_count": null,
     "metadata": {},
     "output_type": "execute_result"
    }
   ],
   "source": [
    "header['DATE-OBS']"
   ]
  },
  {
   "cell_type": "code",
   "execution_count": null,
   "metadata": {},
   "outputs": [
    {
     "data": {
      "text/plain": [
       "True"
      ]
     },
     "execution_count": null,
     "metadata": {},
     "output_type": "execute_result"
    }
   ],
   "source": [
    "header['NAXIS1'] == 1024"
   ]
  },
  {
   "cell_type": "code",
   "execution_count": null,
   "metadata": {},
   "outputs": [
    {
     "data": {
      "text/plain": [
       "True"
      ]
     },
     "execution_count": null,
     "metadata": {},
     "output_type": "execute_result"
    }
   ],
   "source": [
    "header['NAXIS2'] == 1024"
   ]
  },
  {
   "cell_type": "code",
   "execution_count": null,
   "metadata": {},
   "outputs": [
    {
     "data": {
      "text/plain": [
       "True"
      ]
     },
     "execution_count": null,
     "metadata": {},
     "output_type": "execute_result"
    }
   ],
   "source": [
    "header['MSBLOCKS'] == 0"
   ]
  },
  {
   "cell_type": "code",
   "execution_count": null,
   "metadata": {},
   "outputs": [],
   "source": [
    "data = []\n",
    "for f in file_list:\n",
    "    url = soho_url + f.get('href')\n",
    "    info = {}\n",
    "    info['obstime'] = datetime.strptime(f.get('href')[13:-8], \"%Y%m%dT%H%M%S\")\n",
    "    info['wavelength'] = int(f.get('href')[9:12])\n",
    "    info['url'] = url\n",
    "    data.append(info)"
   ]
  },
  {
   "cell_type": "code",
   "execution_count": null,
   "metadata": {},
   "outputs": [],
   "source": [
    "import pandas as pd"
   ]
  },
  {
   "cell_type": "code",
   "execution_count": null,
   "metadata": {},
   "outputs": [
    {
     "data": {
      "text/html": [
       "<div>\n",
       "<style scoped>\n",
       "    .dataframe tbody tr th:only-of-type {\n",
       "        vertical-align: middle;\n",
       "    }\n",
       "\n",
       "    .dataframe tbody tr th {\n",
       "        vertical-align: top;\n",
       "    }\n",
       "\n",
       "    .dataframe thead th {\n",
       "        text-align: right;\n",
       "    }\n",
       "</style>\n",
       "<table border=\"1\" class=\"dataframe\">\n",
       "  <thead>\n",
       "    <tr style=\"text-align: right;\">\n",
       "      <th></th>\n",
       "      <th>obstime</th>\n",
       "      <th>wavelength</th>\n",
       "      <th>url</th>\n",
       "    </tr>\n",
       "  </thead>\n",
       "  <tbody>\n",
       "    <tr>\n",
       "      <th>0</th>\n",
       "      <td>2007-12-13 01:00:14</td>\n",
       "      <td>171</td>\n",
       "      <td>https://umbra.nascom.nasa.gov/pub/eit/l1/2007/...</td>\n",
       "    </tr>\n",
       "    <tr>\n",
       "      <th>1</th>\n",
       "      <td>2007-12-13 07:00:13</td>\n",
       "      <td>171</td>\n",
       "      <td>https://umbra.nascom.nasa.gov/pub/eit/l1/2007/...</td>\n",
       "    </tr>\n",
       "    <tr>\n",
       "      <th>2</th>\n",
       "      <td>2007-12-13 13:00:13</td>\n",
       "      <td>171</td>\n",
       "      <td>https://umbra.nascom.nasa.gov/pub/eit/l1/2007/...</td>\n",
       "    </tr>\n",
       "    <tr>\n",
       "      <th>3</th>\n",
       "      <td>2007-12-13 19:00:13</td>\n",
       "      <td>171</td>\n",
       "      <td>https://umbra.nascom.nasa.gov/pub/eit/l1/2007/...</td>\n",
       "    </tr>\n",
       "    <tr>\n",
       "      <th>4</th>\n",
       "      <td>2007-12-13 00:00:09</td>\n",
       "      <td>195</td>\n",
       "      <td>https://umbra.nascom.nasa.gov/pub/eit/l1/2007/...</td>\n",
       "    </tr>\n",
       "    <tr>\n",
       "      <th>...</th>\n",
       "      <td>...</td>\n",
       "      <td>...</td>\n",
       "      <td>...</td>\n",
       "    </tr>\n",
       "    <tr>\n",
       "      <th>115</th>\n",
       "      <td>2007-12-13 19:06:08</td>\n",
       "      <td>284</td>\n",
       "      <td>https://umbra.nascom.nasa.gov/pub/eit/l1/2007/...</td>\n",
       "    </tr>\n",
       "    <tr>\n",
       "      <th>116</th>\n",
       "      <td>2007-12-13 01:19:37</td>\n",
       "      <td>304</td>\n",
       "      <td>https://umbra.nascom.nasa.gov/pub/eit/l1/2007/...</td>\n",
       "    </tr>\n",
       "    <tr>\n",
       "      <th>117</th>\n",
       "      <td>2007-12-13 07:19:35</td>\n",
       "      <td>304</td>\n",
       "      <td>https://umbra.nascom.nasa.gov/pub/eit/l1/2007/...</td>\n",
       "    </tr>\n",
       "    <tr>\n",
       "      <th>118</th>\n",
       "      <td>2007-12-13 13:19:37</td>\n",
       "      <td>304</td>\n",
       "      <td>https://umbra.nascom.nasa.gov/pub/eit/l1/2007/...</td>\n",
       "    </tr>\n",
       "    <tr>\n",
       "      <th>119</th>\n",
       "      <td>2007-12-13 19:19:37</td>\n",
       "      <td>304</td>\n",
       "      <td>https://umbra.nascom.nasa.gov/pub/eit/l1/2007/...</td>\n",
       "    </tr>\n",
       "  </tbody>\n",
       "</table>\n",
       "<p>120 rows × 3 columns</p>\n",
       "</div>"
      ],
      "text/plain": [
       "                obstime  wavelength  \\\n",
       "0   2007-12-13 01:00:14         171   \n",
       "1   2007-12-13 07:00:13         171   \n",
       "2   2007-12-13 13:00:13         171   \n",
       "3   2007-12-13 19:00:13         171   \n",
       "4   2007-12-13 00:00:09         195   \n",
       "..                  ...         ...   \n",
       "115 2007-12-13 19:06:08         284   \n",
       "116 2007-12-13 01:19:37         304   \n",
       "117 2007-12-13 07:19:35         304   \n",
       "118 2007-12-13 13:19:37         304   \n",
       "119 2007-12-13 19:19:37         304   \n",
       "\n",
       "                                                   url  \n",
       "0    https://umbra.nascom.nasa.gov/pub/eit/l1/2007/...  \n",
       "1    https://umbra.nascom.nasa.gov/pub/eit/l1/2007/...  \n",
       "2    https://umbra.nascom.nasa.gov/pub/eit/l1/2007/...  \n",
       "3    https://umbra.nascom.nasa.gov/pub/eit/l1/2007/...  \n",
       "4    https://umbra.nascom.nasa.gov/pub/eit/l1/2007/...  \n",
       "..                                                 ...  \n",
       "115  https://umbra.nascom.nasa.gov/pub/eit/l1/2007/...  \n",
       "116  https://umbra.nascom.nasa.gov/pub/eit/l1/2007/...  \n",
       "117  https://umbra.nascom.nasa.gov/pub/eit/l1/2007/...  \n",
       "118  https://umbra.nascom.nasa.gov/pub/eit/l1/2007/...  \n",
       "119  https://umbra.nascom.nasa.gov/pub/eit/l1/2007/...  \n",
       "\n",
       "[120 rows x 3 columns]"
      ]
     },
     "execution_count": null,
     "metadata": {},
     "output_type": "execute_result"
    }
   ],
   "source": [
    "df = pd.DataFrame(data)\n",
    "df"
   ]
  },
  {
   "cell_type": "code",
   "execution_count": null,
   "metadata": {},
   "outputs": [],
   "source": [
    "df_171 = df[df['wavelength'] == 171].sort_values(by='obstime').reset_index(drop=True)\n",
    "df_195 = df[df['wavelength'] == 195].sort_values(by='obstime').reset_index(drop=True)\n",
    "df_284 = df[df['wavelength'] == 284].sort_values(by='obstime').reset_index(drop=True)\n",
    "df_304 = df[df['wavelength'] == 304].sort_values(by='obstime').reset_index(drop=True)"
   ]
  },
  {
   "cell_type": "code",
   "execution_count": null,
   "metadata": {},
   "outputs": [
    {
     "data": {
      "text/html": [
       "<div>\n",
       "<style scoped>\n",
       "    .dataframe tbody tr th:only-of-type {\n",
       "        vertical-align: middle;\n",
       "    }\n",
       "\n",
       "    .dataframe tbody tr th {\n",
       "        vertical-align: top;\n",
       "    }\n",
       "\n",
       "    .dataframe thead th {\n",
       "        text-align: right;\n",
       "    }\n",
       "</style>\n",
       "<table border=\"1\" class=\"dataframe\">\n",
       "  <thead>\n",
       "    <tr style=\"text-align: right;\">\n",
       "      <th></th>\n",
       "      <th>obstime</th>\n",
       "      <th>wavelength</th>\n",
       "      <th>url</th>\n",
       "    </tr>\n",
       "  </thead>\n",
       "  <tbody>\n",
       "    <tr>\n",
       "      <th>0</th>\n",
       "      <td>2007-12-13 01:00:14</td>\n",
       "      <td>171</td>\n",
       "      <td>https://umbra.nascom.nasa.gov/pub/eit/l1/2007/...</td>\n",
       "    </tr>\n",
       "    <tr>\n",
       "      <th>1</th>\n",
       "      <td>2007-12-13 07:00:13</td>\n",
       "      <td>171</td>\n",
       "      <td>https://umbra.nascom.nasa.gov/pub/eit/l1/2007/...</td>\n",
       "    </tr>\n",
       "    <tr>\n",
       "      <th>2</th>\n",
       "      <td>2007-12-13 13:00:13</td>\n",
       "      <td>171</td>\n",
       "      <td>https://umbra.nascom.nasa.gov/pub/eit/l1/2007/...</td>\n",
       "    </tr>\n",
       "    <tr>\n",
       "      <th>3</th>\n",
       "      <td>2007-12-13 19:00:13</td>\n",
       "      <td>171</td>\n",
       "      <td>https://umbra.nascom.nasa.gov/pub/eit/l1/2007/...</td>\n",
       "    </tr>\n",
       "  </tbody>\n",
       "</table>\n",
       "</div>"
      ],
      "text/plain": [
       "              obstime  wavelength  \\\n",
       "0 2007-12-13 01:00:14         171   \n",
       "1 2007-12-13 07:00:13         171   \n",
       "2 2007-12-13 13:00:13         171   \n",
       "3 2007-12-13 19:00:13         171   \n",
       "\n",
       "                                                 url  \n",
       "0  https://umbra.nascom.nasa.gov/pub/eit/l1/2007/...  \n",
       "1  https://umbra.nascom.nasa.gov/pub/eit/l1/2007/...  \n",
       "2  https://umbra.nascom.nasa.gov/pub/eit/l1/2007/...  \n",
       "3  https://umbra.nascom.nasa.gov/pub/eit/l1/2007/...  "
      ]
     },
     "execution_count": null,
     "metadata": {},
     "output_type": "execute_result"
    }
   ],
   "source": [
    "df_171"
   ]
  },
  {
   "cell_type": "code",
   "execution_count": null,
   "metadata": {},
   "outputs": [
    {
     "data": {
      "text/html": [
       "<div>\n",
       "<style scoped>\n",
       "    .dataframe tbody tr th:only-of-type {\n",
       "        vertical-align: middle;\n",
       "    }\n",
       "\n",
       "    .dataframe tbody tr th {\n",
       "        vertical-align: top;\n",
       "    }\n",
       "\n",
       "    .dataframe thead th {\n",
       "        text-align: right;\n",
       "    }\n",
       "</style>\n",
       "<table border=\"1\" class=\"dataframe\">\n",
       "  <thead>\n",
       "    <tr style=\"text-align: right;\">\n",
       "      <th></th>\n",
       "      <th>obstime</th>\n",
       "      <th>wavelength</th>\n",
       "      <th>url</th>\n",
       "    </tr>\n",
       "  </thead>\n",
       "  <tbody>\n",
       "    <tr>\n",
       "      <th>0</th>\n",
       "      <td>2007-12-13 00:00:09</td>\n",
       "      <td>195</td>\n",
       "      <td>https://umbra.nascom.nasa.gov/pub/eit/l1/2007/...</td>\n",
       "    </tr>\n",
       "    <tr>\n",
       "      <th>1</th>\n",
       "      <td>2007-12-13 00:12:10</td>\n",
       "      <td>195</td>\n",
       "      <td>https://umbra.nascom.nasa.gov/pub/eit/l1/2007/...</td>\n",
       "    </tr>\n",
       "    <tr>\n",
       "      <th>2</th>\n",
       "      <td>2007-12-13 00:24:11</td>\n",
       "      <td>195</td>\n",
       "      <td>https://umbra.nascom.nasa.gov/pub/eit/l1/2007/...</td>\n",
       "    </tr>\n",
       "    <tr>\n",
       "      <th>3</th>\n",
       "      <td>2007-12-13 00:36:09</td>\n",
       "      <td>195</td>\n",
       "      <td>https://umbra.nascom.nasa.gov/pub/eit/l1/2007/...</td>\n",
       "    </tr>\n",
       "    <tr>\n",
       "      <th>4</th>\n",
       "      <td>2007-12-13 00:48:42</td>\n",
       "      <td>195</td>\n",
       "      <td>https://umbra.nascom.nasa.gov/pub/eit/l1/2007/...</td>\n",
       "    </tr>\n",
       "    <tr>\n",
       "      <th>...</th>\n",
       "      <td>...</td>\n",
       "      <td>...</td>\n",
       "      <td>...</td>\n",
       "    </tr>\n",
       "    <tr>\n",
       "      <th>103</th>\n",
       "      <td>2007-12-13 22:36:09</td>\n",
       "      <td>195</td>\n",
       "      <td>https://umbra.nascom.nasa.gov/pub/eit/l1/2007/...</td>\n",
       "    </tr>\n",
       "    <tr>\n",
       "      <th>104</th>\n",
       "      <td>2007-12-13 23:12:09</td>\n",
       "      <td>195</td>\n",
       "      <td>https://umbra.nascom.nasa.gov/pub/eit/l1/2007/...</td>\n",
       "    </tr>\n",
       "    <tr>\n",
       "      <th>105</th>\n",
       "      <td>2007-12-13 23:24:09</td>\n",
       "      <td>195</td>\n",
       "      <td>https://umbra.nascom.nasa.gov/pub/eit/l1/2007/...</td>\n",
       "    </tr>\n",
       "    <tr>\n",
       "      <th>106</th>\n",
       "      <td>2007-12-13 23:36:09</td>\n",
       "      <td>195</td>\n",
       "      <td>https://umbra.nascom.nasa.gov/pub/eit/l1/2007/...</td>\n",
       "    </tr>\n",
       "    <tr>\n",
       "      <th>107</th>\n",
       "      <td>2007-12-13 23:48:09</td>\n",
       "      <td>195</td>\n",
       "      <td>https://umbra.nascom.nasa.gov/pub/eit/l1/2007/...</td>\n",
       "    </tr>\n",
       "  </tbody>\n",
       "</table>\n",
       "<p>108 rows × 3 columns</p>\n",
       "</div>"
      ],
      "text/plain": [
       "                obstime  wavelength  \\\n",
       "0   2007-12-13 00:00:09         195   \n",
       "1   2007-12-13 00:12:10         195   \n",
       "2   2007-12-13 00:24:11         195   \n",
       "3   2007-12-13 00:36:09         195   \n",
       "4   2007-12-13 00:48:42         195   \n",
       "..                  ...         ...   \n",
       "103 2007-12-13 22:36:09         195   \n",
       "104 2007-12-13 23:12:09         195   \n",
       "105 2007-12-13 23:24:09         195   \n",
       "106 2007-12-13 23:36:09         195   \n",
       "107 2007-12-13 23:48:09         195   \n",
       "\n",
       "                                                   url  \n",
       "0    https://umbra.nascom.nasa.gov/pub/eit/l1/2007/...  \n",
       "1    https://umbra.nascom.nasa.gov/pub/eit/l1/2007/...  \n",
       "2    https://umbra.nascom.nasa.gov/pub/eit/l1/2007/...  \n",
       "3    https://umbra.nascom.nasa.gov/pub/eit/l1/2007/...  \n",
       "4    https://umbra.nascom.nasa.gov/pub/eit/l1/2007/...  \n",
       "..                                                 ...  \n",
       "103  https://umbra.nascom.nasa.gov/pub/eit/l1/2007/...  \n",
       "104  https://umbra.nascom.nasa.gov/pub/eit/l1/2007/...  \n",
       "105  https://umbra.nascom.nasa.gov/pub/eit/l1/2007/...  \n",
       "106  https://umbra.nascom.nasa.gov/pub/eit/l1/2007/...  \n",
       "107  https://umbra.nascom.nasa.gov/pub/eit/l1/2007/...  \n",
       "\n",
       "[108 rows x 3 columns]"
      ]
     },
     "execution_count": null,
     "metadata": {},
     "output_type": "execute_result"
    }
   ],
   "source": [
    "df_195"
   ]
  },
  {
   "cell_type": "code",
   "execution_count": null,
   "metadata": {},
   "outputs": [
    {
     "data": {
      "text/plain": [
       "obstime                                     2007-12-13 00:00:09\n",
       "wavelength                                                  195\n",
       "url           https://umbra.nascom.nasa.gov/pub/eit/l1/2007/...\n",
       "Name: 0, dtype: object"
      ]
     },
     "execution_count": null,
     "metadata": {},
     "output_type": "execute_result"
    }
   ],
   "source": [
    "df_195.iloc[(df_195['obstime'] - d).abs().idxmin()]"
   ]
  },
  {
   "cell_type": "code",
   "execution_count": null,
   "metadata": {},
   "outputs": [
    {
     "data": {
      "text/html": [
       "<div>\n",
       "<style scoped>\n",
       "    .dataframe tbody tr th:only-of-type {\n",
       "        vertical-align: middle;\n",
       "    }\n",
       "\n",
       "    .dataframe tbody tr th {\n",
       "        vertical-align: top;\n",
       "    }\n",
       "\n",
       "    .dataframe thead th {\n",
       "        text-align: right;\n",
       "    }\n",
       "</style>\n",
       "<table border=\"1\" class=\"dataframe\">\n",
       "  <thead>\n",
       "    <tr style=\"text-align: right;\">\n",
       "      <th></th>\n",
       "      <th>obstime</th>\n",
       "      <th>wavelength</th>\n",
       "      <th>url</th>\n",
       "    </tr>\n",
       "  </thead>\n",
       "  <tbody>\n",
       "    <tr>\n",
       "      <th>0</th>\n",
       "      <td>2007-12-13 01:06:08</td>\n",
       "      <td>284</td>\n",
       "      <td>https://umbra.nascom.nasa.gov/pub/eit/l1/2007/...</td>\n",
       "    </tr>\n",
       "    <tr>\n",
       "      <th>1</th>\n",
       "      <td>2007-12-13 07:06:07</td>\n",
       "      <td>284</td>\n",
       "      <td>https://umbra.nascom.nasa.gov/pub/eit/l1/2007/...</td>\n",
       "    </tr>\n",
       "    <tr>\n",
       "      <th>2</th>\n",
       "      <td>2007-12-13 13:06:09</td>\n",
       "      <td>284</td>\n",
       "      <td>https://umbra.nascom.nasa.gov/pub/eit/l1/2007/...</td>\n",
       "    </tr>\n",
       "    <tr>\n",
       "      <th>3</th>\n",
       "      <td>2007-12-13 19:06:08</td>\n",
       "      <td>284</td>\n",
       "      <td>https://umbra.nascom.nasa.gov/pub/eit/l1/2007/...</td>\n",
       "    </tr>\n",
       "  </tbody>\n",
       "</table>\n",
       "</div>"
      ],
      "text/plain": [
       "              obstime  wavelength  \\\n",
       "0 2007-12-13 01:06:08         284   \n",
       "1 2007-12-13 07:06:07         284   \n",
       "2 2007-12-13 13:06:09         284   \n",
       "3 2007-12-13 19:06:08         284   \n",
       "\n",
       "                                                 url  \n",
       "0  https://umbra.nascom.nasa.gov/pub/eit/l1/2007/...  \n",
       "1  https://umbra.nascom.nasa.gov/pub/eit/l1/2007/...  \n",
       "2  https://umbra.nascom.nasa.gov/pub/eit/l1/2007/...  \n",
       "3  https://umbra.nascom.nasa.gov/pub/eit/l1/2007/...  "
      ]
     },
     "execution_count": null,
     "metadata": {},
     "output_type": "execute_result"
    }
   ],
   "source": [
    "df_284"
   ]
  },
  {
   "cell_type": "code",
   "execution_count": null,
   "metadata": {},
   "outputs": [
    {
     "data": {
      "text/plain": [
       "obstime                                     2007-12-13 01:06:08\n",
       "wavelength                                                  284\n",
       "url           https://umbra.nascom.nasa.gov/pub/eit/l1/2007/...\n",
       "Name: 0, dtype: object"
      ]
     },
     "execution_count": null,
     "metadata": {},
     "output_type": "execute_result"
    }
   ],
   "source": [
    "df_284.iloc[(df_284['obstime'] - d).abs().idxmin()]"
   ]
  },
  {
   "cell_type": "code",
   "execution_count": null,
   "metadata": {},
   "outputs": [
    {
     "data": {
      "text/html": [
       "<div>\n",
       "<style scoped>\n",
       "    .dataframe tbody tr th:only-of-type {\n",
       "        vertical-align: middle;\n",
       "    }\n",
       "\n",
       "    .dataframe tbody tr th {\n",
       "        vertical-align: top;\n",
       "    }\n",
       "\n",
       "    .dataframe thead th {\n",
       "        text-align: right;\n",
       "    }\n",
       "</style>\n",
       "<table border=\"1\" class=\"dataframe\">\n",
       "  <thead>\n",
       "    <tr style=\"text-align: right;\">\n",
       "      <th></th>\n",
       "      <th>obstime</th>\n",
       "      <th>wavelength</th>\n",
       "      <th>url</th>\n",
       "    </tr>\n",
       "  </thead>\n",
       "  <tbody>\n",
       "    <tr>\n",
       "      <th>0</th>\n",
       "      <td>2007-12-13 01:00:14</td>\n",
       "      <td>171</td>\n",
       "      <td>https://umbra.nascom.nasa.gov/pub/eit/l1/2007/...</td>\n",
       "    </tr>\n",
       "    <tr>\n",
       "      <th>1</th>\n",
       "      <td>2007-12-13 07:00:13</td>\n",
       "      <td>171</td>\n",
       "      <td>https://umbra.nascom.nasa.gov/pub/eit/l1/2007/...</td>\n",
       "    </tr>\n",
       "    <tr>\n",
       "      <th>2</th>\n",
       "      <td>2007-12-13 13:00:13</td>\n",
       "      <td>171</td>\n",
       "      <td>https://umbra.nascom.nasa.gov/pub/eit/l1/2007/...</td>\n",
       "    </tr>\n",
       "    <tr>\n",
       "      <th>3</th>\n",
       "      <td>2007-12-13 19:00:13</td>\n",
       "      <td>171</td>\n",
       "      <td>https://umbra.nascom.nasa.gov/pub/eit/l1/2007/...</td>\n",
       "    </tr>\n",
       "  </tbody>\n",
       "</table>\n",
       "</div>"
      ],
      "text/plain": [
       "              obstime  wavelength  \\\n",
       "0 2007-12-13 01:00:14         171   \n",
       "1 2007-12-13 07:00:13         171   \n",
       "2 2007-12-13 13:00:13         171   \n",
       "3 2007-12-13 19:00:13         171   \n",
       "\n",
       "                                                 url  \n",
       "0  https://umbra.nascom.nasa.gov/pub/eit/l1/2007/...  \n",
       "1  https://umbra.nascom.nasa.gov/pub/eit/l1/2007/...  \n",
       "2  https://umbra.nascom.nasa.gov/pub/eit/l1/2007/...  \n",
       "3  https://umbra.nascom.nasa.gov/pub/eit/l1/2007/...  "
      ]
     },
     "execution_count": null,
     "metadata": {},
     "output_type": "execute_result"
    }
   ],
   "source": [
    "df_171"
   ]
  },
  {
   "cell_type": "code",
   "execution_count": null,
   "metadata": {},
   "outputs": [
    {
     "data": {
      "text/plain": [
       "Timestamp('2007-12-13 01:06:08')"
      ]
     },
     "execution_count": null,
     "metadata": {},
     "output_type": "execute_result"
    }
   ],
   "source": [
    "sample = df_284.iloc[(df_284['obstime'] - d).abs().idxmin()]\n",
    "sample.obstime"
   ]
  },
  {
   "cell_type": "code",
   "execution_count": null,
   "metadata": {},
   "outputs": [],
   "source": [
    "def round_hour(t):\n",
    "    # Rounds to nearest hour by adding a timedelta hour if minute >= 30\n",
    "    return (t.replace(second=0, microsecond=0, minute=0, hour=t.hour)\n",
    "            + timedelta(hours=t.minute // 30))"
   ]
  },
  {
   "cell_type": "code",
   "execution_count": null,
   "metadata": {},
   "outputs": [
    {
     "data": {
      "text/plain": [
       "Timestamp('2007-12-13 01:00:00')"
      ]
     },
     "execution_count": null,
     "metadata": {},
     "output_type": "execute_result"
    }
   ],
   "source": [
    "round_hour(sample.obstime)"
   ]
  },
  {
   "cell_type": "code",
   "execution_count": null,
   "metadata": {},
   "outputs": [
    {
     "data": {
      "text/plain": [
       "PosixPath('data/soho/eit/284')"
      ]
     },
     "execution_count": null,
     "metadata": {},
     "output_type": "execute_result"
    }
   ],
   "source": [
    "Path(ds_path) / str(sample.wavelength)"
   ]
  },
  {
   "cell_type": "code",
   "execution_count": null,
   "metadata": {},
   "outputs": [],
   "source": [
    "header = fits.getheader(sample.url)"
   ]
  },
  {
   "cell_type": "code",
   "execution_count": null,
   "metadata": {},
   "outputs": [
    {
     "data": {
      "text/plain": [
       "False"
      ]
     },
     "execution_count": null,
     "metadata": {},
     "output_type": "execute_result"
    }
   ],
   "source": [
    "header['NAXIS1'] != 1024"
   ]
  },
  {
   "cell_type": "code",
   "execution_count": null,
   "metadata": {},
   "outputs": [
    {
     "data": {
      "text/plain": [
       "False"
      ]
     },
     "execution_count": null,
     "metadata": {},
     "output_type": "execute_result"
    }
   ],
   "source": [
    "header['NAXIS2'] != 1024"
   ]
  },
  {
   "cell_type": "code",
   "execution_count": null,
   "metadata": {},
   "outputs": [
    {
     "data": {
      "text/plain": [
       "False"
      ]
     },
     "execution_count": null,
     "metadata": {},
     "output_type": "execute_result"
    }
   ],
   "source": [
    "header['MSBLOCKS'] != 0"
   ]
  },
  {
   "cell_type": "code",
   "execution_count": null,
   "metadata": {},
   "outputs": [],
   "source": [
    "df_284.drop(sample.name, inplace=True)"
   ]
  },
  {
   "cell_type": "code",
   "execution_count": null,
   "metadata": {},
   "outputs": [
    {
     "data": {
      "text/html": [
       "<div>\n",
       "<style scoped>\n",
       "    .dataframe tbody tr th:only-of-type {\n",
       "        vertical-align: middle;\n",
       "    }\n",
       "\n",
       "    .dataframe tbody tr th {\n",
       "        vertical-align: top;\n",
       "    }\n",
       "\n",
       "    .dataframe thead th {\n",
       "        text-align: right;\n",
       "    }\n",
       "</style>\n",
       "<table border=\"1\" class=\"dataframe\">\n",
       "  <thead>\n",
       "    <tr style=\"text-align: right;\">\n",
       "      <th></th>\n",
       "      <th>obstime</th>\n",
       "      <th>wavelength</th>\n",
       "      <th>url</th>\n",
       "    </tr>\n",
       "  </thead>\n",
       "  <tbody>\n",
       "    <tr>\n",
       "      <th>1</th>\n",
       "      <td>2007-12-13 07:06:07</td>\n",
       "      <td>284</td>\n",
       "      <td>https://umbra.nascom.nasa.gov/pub/eit/l1/2007/...</td>\n",
       "    </tr>\n",
       "    <tr>\n",
       "      <th>2</th>\n",
       "      <td>2007-12-13 13:06:09</td>\n",
       "      <td>284</td>\n",
       "      <td>https://umbra.nascom.nasa.gov/pub/eit/l1/2007/...</td>\n",
       "    </tr>\n",
       "    <tr>\n",
       "      <th>3</th>\n",
       "      <td>2007-12-13 19:06:08</td>\n",
       "      <td>284</td>\n",
       "      <td>https://umbra.nascom.nasa.gov/pub/eit/l1/2007/...</td>\n",
       "    </tr>\n",
       "  </tbody>\n",
       "</table>\n",
       "</div>"
      ],
      "text/plain": [
       "              obstime  wavelength  \\\n",
       "1 2007-12-13 07:06:07         284   \n",
       "2 2007-12-13 13:06:09         284   \n",
       "3 2007-12-13 19:06:08         284   \n",
       "\n",
       "                                                 url  \n",
       "1  https://umbra.nascom.nasa.gov/pub/eit/l1/2007/...  \n",
       "2  https://umbra.nascom.nasa.gov/pub/eit/l1/2007/...  \n",
       "3  https://umbra.nascom.nasa.gov/pub/eit/l1/2007/...  "
      ]
     },
     "execution_count": null,
     "metadata": {},
     "output_type": "execute_result"
    }
   ],
   "source": [
    "df_284"
   ]
  },
  {
   "cell_type": "code",
   "execution_count": null,
   "metadata": {},
   "outputs": [],
   "source": []
  }
 ],
 "metadata": {
  "kernelspec": {
   "display_name": "python3",
   "language": "python",
   "name": "python3"
  }
 },
 "nbformat": 4,
 "nbformat_minor": 2
}
