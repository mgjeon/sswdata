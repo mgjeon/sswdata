{
 "cells": [
  {
   "cell_type": "markdown",
   "metadata": {},
   "source": [
    "- SDO\n",
    "    - quicklook\n",
    "        - https://sdo.gsfc.nasa.gov/data/\n",
    "    - science data\n",
    "        - http://jsoc.stanford.edu/ajax/lookdata.html?ds=hmi.M_720s\n",
    "            - HMI LOS magnetogram\n",
    "        - http://jsoc.stanford.edu/ajax/lookdata.html?ds=aia.lev1_euv_12s\n",
    "            - AIA 171, 193, 304\n",
    "\n",
    "- STEREO\n",
    "    - quicklook\n",
    "        - https://stereo-ssc.nascom.nasa.gov/browse\n",
    "    - science data\n",
    "        - https://stereo-ssc.nascom.nasa.gov/data/ins_data/secchi/L0_YMD/a/img/euvi/\n",
    "            - STEREO-A/EUVI 171, 195, 304\n",
    "        - https://stereo-ssc.nascom.nasa.gov/data/ins_data/secchi/L0_YMD/b/img/euvi/        \n",
    "            - STEREO-B/EUVI 171, 195, 304 (2014년 9월 27일 이후 데이터 없음)\n",
    "\n",
    "- Solar Orbier (NOT real-time)\n",
    "    - quicklook\n",
    "        - https://www.uv.es/jublanro/phidata_fdt.html\n",
    "            - PHI/FDT\n",
    "        - https://www.sidc.be/EUI/data/movie/dailySynoptics/\n",
    "            - EUI/FSI\n",
    "    - science data\n",
    "        - https://soar.esac.esa.int/soar/\n",
    "            - PHI/FDT\n",
    "            - EUI/FSI\n",
    "        - https://www.sidc.be/EUI/data/releases/\n",
    "            - EUI/FSI"
   ]
  },
  {
   "cell_type": "markdown",
   "metadata": {},
   "source": []
  }
 ],
 "metadata": {},
 "nbformat": 4,
 "nbformat_minor": 2
}
